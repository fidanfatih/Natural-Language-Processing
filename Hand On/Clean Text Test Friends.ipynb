{
 "cells": [
  {
   "cell_type": "code",
   "execution_count": 1,
   "id": "4ae387e1",
   "metadata": {},
   "outputs": [],
   "source": [
    "import numpy as np\n",
    "import pandas as pd\n",
    "import re\n",
    "import nltk\n",
    "import matplotlib.pyplot as plt\n",
    "import seaborn as sns"
   ]
  },
  {
   "cell_type": "code",
   "execution_count": 2,
   "id": "6ee32c3c",
   "metadata": {},
   "outputs": [
    {
     "name": "stderr",
     "output_type": "stream",
     "text": [
      "ERROR: Invalid requirement: '#'\n",
      "WARNING: You are using pip version 21.2.4; however, version 21.3 is available.\n",
      "You should consider upgrading via the 'C:\\Users\\Ertuğrul\\AppData\\Local\\Programs\\Python\\Python39\\python.exe -m pip install --upgrade pip' command.\n"
     ]
    }
   ],
   "source": [
    "!pip install unicodedata2  # for clean text"
   ]
  },
  {
   "cell_type": "code",
   "execution_count": null,
   "id": "ca41559a",
   "metadata": {
    "scrolled": false
   },
   "outputs": [],
   "source": [
    "# try:\n",
    "#   with open(\"S01E01 Monica Gets A Roommate.txt\", \"r\", encoding=\"utf-8\") as file:\n",
    "#     text_data = file.readlines()\n",
    "#     print(text_data)\n",
    "# except:\n",
    "#   print(\"There is not such a file  or path is incorrect\")"
   ]
  },
  {
   "cell_type": "code",
   "execution_count": null,
   "id": "130ddb8c",
   "metadata": {},
   "outputs": [],
   "source": [
    "# text_data = \" \".join(text_data)\n",
    "# text_data = text_data.split(\"\\n\") # Remove \"\\n\"\n",
    "# text_data = \" \".join(text_data)\n",
    "# text_data"
   ]
  },
  {
   "cell_type": "code",
   "execution_count": null,
   "id": "531811c9",
   "metadata": {},
   "outputs": [],
   "source": [
    "try:\n",
    "  with open(\"S01E01 Monica Gets A Roommate\", \"r\", encoding=\"utf-8\") as file:\n",
    "    text_data1 = file.read()\n",
    "    print(text_data1)\n",
    "except:\n",
    "  print(\"There is not such a file  or path is incorrect\")"
   ]
  },
  {
   "cell_type": "code",
   "execution_count": null,
   "id": "197037c8",
   "metadata": {},
   "outputs": [],
   "source": [
    "# try:\n",
    "#   with open(\"test3_4.txt\", \"r\", encoding=\"utf-8\") as file:\n",
    "#     text_data2 = file.read()\n",
    "#     print(text_data2)\n",
    "# except:\n",
    "#   print(\"There is not such a file  or path is incorrect\")"
   ]
  },
  {
   "cell_type": "code",
   "execution_count": null,
   "id": "b04cdbf4",
   "metadata": {},
   "outputs": [],
   "source": [
    "# try:\n",
    "#   with open(\"test5_6.txt\", \"r\", encoding=\"utf-8\") as file:\n",
    "#     text_data3 = file.read()\n",
    "#     print(text_data3)\n",
    "# except:\n",
    "#   print(\"There is not such a file  or path is incorrect\")"
   ]
  },
  {
   "cell_type": "code",
   "execution_count": null,
   "id": "e4f0d92b",
   "metadata": {},
   "outputs": [],
   "source": [
    "try:\n",
    "  with open(\"text7_8.txt\", \"r\", encoding=\"utf-8\") as file:\n",
    "    text_data4 = file.read()\n",
    "    print(text_data4)\n",
    "except:\n",
    "  print(\"There is not such a file  or path is incorrect\")"
   ]
  },
  {
   "cell_type": "code",
   "execution_count": null,
   "id": "5f2f2a82",
   "metadata": {},
   "outputs": [],
   "source": [
    "try:\n",
    "  with open(\"text9_10.txt\", \"r\", encoding=\"utf-8\") as file:\n",
    "    text_data5 = file.read()\n",
    "    print(text_data5)\n",
    "except:\n",
    "  print(\"There is not such a file  or path is incorrect\")"
   ]
  },
  {
   "cell_type": "code",
   "execution_count": null,
   "id": "aa17730a",
   "metadata": {},
   "outputs": [],
   "source": [
    "text = text_data1+text_data2\n",
    "text"
   ]
  },
  {
   "cell_type": "code",
   "execution_count": null,
   "id": "6072b284",
   "metadata": {},
   "outputs": [],
   "source": [
    "len(text)"
   ]
  },
  {
   "cell_type": "code",
   "execution_count": null,
   "id": "f495eeb7",
   "metadata": {},
   "outputs": [],
   "source": [
    "text_data = text_data1+\" \"+text_data2+\" \"+text_data3+\" \"+text_data4+\" \"+text_data5\n",
    "text_data"
   ]
  },
  {
   "cell_type": "code",
   "execution_count": null,
   "id": "c845dc72",
   "metadata": {},
   "outputs": [],
   "source": [
    "len(text_data)"
   ]
  },
  {
   "cell_type": "markdown",
   "id": "99c0a0b5",
   "metadata": {},
   "source": [
    "### Clean Text"
   ]
  },
  {
   "cell_type": "code",
   "execution_count": null,
   "id": "12a72633",
   "metadata": {},
   "outputs": [],
   "source": [
    "#!pip install clean-text"
   ]
  },
  {
   "cell_type": "code",
   "execution_count": null,
   "id": "b220a996",
   "metadata": {},
   "outputs": [],
   "source": [
    "from cleantext import clean # Support only en, de"
   ]
  },
  {
   "cell_type": "code",
   "execution_count": null,
   "id": "34ca5bef",
   "metadata": {
    "scrolled": true
   },
   "outputs": [],
   "source": [
    "text_data_clean = clean(text_data,\n",
    "                        fix_unicode=True,\n",
    "                        to_ascii=False,\n",
    "                        lower=False,\n",
    "                        normalize_whitespace=True,\n",
    "                        no_line_breaks=True,\n",
    "                        strip_lines=False,\n",
    "                        keep_two_line_breaks=False,\n",
    "                        no_urls=True,\n",
    "                        no_emails=True,\n",
    "                        no_phone_numbers=True,\n",
    "                        no_numbers=True,\n",
    "                        no_digits=True,\n",
    "                        no_currency_symbols=True,\n",
    "                        no_punct=False,\n",
    "                        no_emoji=True,\n",
    "                        replace_with_url='',\n",
    "                        replace_with_email='',\n",
    "                        replace_with_phone_number='',\n",
    "                        replace_with_number='',\n",
    "                        replace_with_digit='',\n",
    "                        replace_with_currency_symbol='',\n",
    "                        replace_with_punct='',\n",
    "                        lang='en')\n",
    "text_data_clean"
   ]
  },
  {
   "cell_type": "code",
   "execution_count": null,
   "id": "dde4a1f1",
   "metadata": {},
   "outputs": [],
   "source": [
    "# Normalization"
   ]
  },
  {
   "cell_type": "code",
   "execution_count": null,
   "id": "71510c6f",
   "metadata": {},
   "outputs": [],
   "source": [
    "text_data_clean = re.sub(r\"\\'\", \"\", string=text_data_clean) # Delete Apostros\n",
    "text_data_clean"
   ]
  },
  {
   "cell_type": "code",
   "execution_count": null,
   "id": "a92e30ec",
   "metadata": {},
   "outputs": [],
   "source": [
    "text_data_clean = re.sub('[\\(\\[\\{].*?[\\)\\]\\}]', '', text_data_clean)\n",
    "text_data_clean"
   ]
  },
  {
   "cell_type": "code",
   "execution_count": null,
   "id": "202d3df4",
   "metadata": {
    "scrolled": false
   },
   "outputs": [],
   "source": [
    "# text_data_clean = re.sub(r'[\\([{})\\]]', '', text_data_clean) # Delete All Brackets\n",
    "# text_data_clean"
   ]
  },
  {
   "cell_type": "code",
   "execution_count": null,
   "id": "1034a830",
   "metadata": {},
   "outputs": [],
   "source": [
    "custom_char = [\"-\",\"#\",\":\",\"...\"]\n",
    "for i in custom_char:\n",
    "    text_data_clean = text_data_clean.replace(i, '')\n",
    "text_data_clean"
   ]
  },
  {
   "cell_type": "code",
   "execution_count": null,
   "id": "8be385b7",
   "metadata": {},
   "outputs": [],
   "source": [
    "# text_data_clean2 = clean(text_data_clean,\n",
    "#                        fix_unicode=True,\n",
    "#                        to_ascii=False,\n",
    "#                        lower=False,\n",
    "#                        normalize_whitespace=True,\n",
    "#                        no_line_breaks=True,\n",
    "#                        strip_lines=False,\n",
    "#                        keep_two_line_breaks=False,\n",
    "#                        no_urls=True,\n",
    "#                        no_emails=True,\n",
    "#                        no_phone_numbers=True,\n",
    "#                        no_numbers=True,\n",
    "#                        no_digits=True,\n",
    "#                        no_currency_symbols=True,\n",
    "#                        no_punct=False,\n",
    "#                        no_emoji=True,\n",
    "#                       replace_with_url='',\n",
    "#                        replace_with_email='',\n",
    "#                        replace_with_phone_number='',\n",
    "#                        replace_with_number='',\n",
    "#                        replace_with_digit='',\n",
    "#                        replace_with_currency_symbol='',\n",
    "#                        replace_with_punct='',\n",
    "#                        lang='en') # White space\n",
    "# text_data_clean2 "
   ]
  },
  {
   "cell_type": "code",
   "execution_count": null,
   "id": "a5dc73c2",
   "metadata": {},
   "outputs": [],
   "source": [
    "words = nltk.word_tokenize(text_data_clean)\n",
    "words"
   ]
  },
  {
   "cell_type": "code",
   "execution_count": null,
   "id": "bcfc82d7",
   "metadata": {},
   "outputs": [],
   "source": [
    "pos_tags = nltk.pos_tag(words)\n",
    "pos_tags"
   ]
  },
  {
   "cell_type": "code",
   "execution_count": null,
   "id": "3e5f7a5d",
   "metadata": {},
   "outputs": [],
   "source": [
    "nltk.download('tagsets')"
   ]
  },
  {
   "cell_type": "code",
   "execution_count": null,
   "id": "698b58a5",
   "metadata": {},
   "outputs": [],
   "source": [
    "nltk.help.upenn_tagset('NNP')"
   ]
  },
  {
   "cell_type": "code",
   "execution_count": null,
   "id": "4349f2ca",
   "metadata": {
    "scrolled": true
   },
   "outputs": [],
   "source": [
    "nltk.help.upenn_tagset('NN')"
   ]
  },
  {
   "cell_type": "code",
   "execution_count": null,
   "id": "649999de",
   "metadata": {
    "scrolled": true
   },
   "outputs": [],
   "source": [
    "nltk.download('maxent_ne_chunker')"
   ]
  },
  {
   "cell_type": "code",
   "execution_count": null,
   "id": "e84aa842",
   "metadata": {},
   "outputs": [],
   "source": [
    "nltk.download('words')"
   ]
  },
  {
   "cell_type": "code",
   "execution_count": null,
   "id": "3823d052",
   "metadata": {},
   "outputs": [],
   "source": [
    "chunks = nltk.ne_chunk(pos_tags, binary=True)\n",
    "for chunk in chunks:\n",
    "    print(chunk)"
   ]
  },
  {
   "cell_type": "code",
   "execution_count": null,
   "id": "4108a0c0",
   "metadata": {},
   "outputs": [],
   "source": [
    "entities =[]\n",
    "labels =[]\n",
    "for chunk in chunks:\n",
    "    if hasattr(chunk,'label'):\n",
    "        #print(chunk)\n",
    "        entities.append(' '.join(c[0] for c in chunk))\n",
    "        labels.append(chunk.label())\n",
    "        \n",
    "entities_labels = list(set(zip(entities, labels)))\n",
    "entities_df = pd.DataFrame(entities_labels)\n",
    "entities_df.columns = [\"Entities\",\"Labels\"]\n",
    "entities_df"
   ]
  },
  {
   "cell_type": "code",
   "execution_count": null,
   "id": "6443124e",
   "metadata": {
    "scrolled": true
   },
   "outputs": [],
   "source": [
    "# chunks = nltk.ne_chunk(pos_tags, binary=False) #either NE or not NE\n",
    "# for chunk in chunks:\n",
    "#     print(chunk)\n",
    "    \n",
    "entities =[]\n",
    "labels =[]\n",
    "for chunk in chunks:\n",
    "    if hasattr(chunk,'label'):\n",
    "        #print(chunk)\n",
    "        entities.append(' '.join(c[0] for c in chunk))\n",
    "        labels.append(chunk.label())\n",
    "        \n",
    "entities_labels = list(set(zip(entities, labels)))\n",
    "entities_df = pd.DataFrame(entities_labels)\n",
    "entities_df.columns = [\"Entities\",\"Labels\"]\n",
    "entities_df"
   ]
  },
  {
   "cell_type": "code",
   "execution_count": null,
   "id": "ef6e09cd",
   "metadata": {
    "scrolled": true
   },
   "outputs": [],
   "source": [
    "entities_list = []\n",
    "for i in entities_labels:\n",
    "    entities_list.append(i[0])\n",
    "entities_list"
   ]
  },
  {
   "cell_type": "code",
   "execution_count": null,
   "id": "81bd4ab4",
   "metadata": {},
   "outputs": [],
   "source": [
    "type(entities_list)"
   ]
  },
  {
   "cell_type": "code",
   "execution_count": null,
   "id": "11548b9c",
   "metadata": {},
   "outputs": [],
   "source": [
    "for ent in entities_list:\n",
    "    text_data_clean = text_data_clean.replace(ent, '')\n",
    "text_data_clean"
   ]
  },
  {
   "cell_type": "code",
   "execution_count": null,
   "id": "4826c299",
   "metadata": {
    "scrolled": true
   },
   "outputs": [],
   "source": [
    "text_data_clean2 = clean(text_data_clean,\n",
    "                        fix_unicode=True,\n",
    "                        to_ascii=False,\n",
    "                        lower=False,\n",
    "                        normalize_whitespace=True,\n",
    "                        no_line_breaks=True,\n",
    "                        strip_lines=False,\n",
    "                        keep_two_line_breaks=False,\n",
    "                        no_urls=True,\n",
    "                        no_emails=True,\n",
    "                        no_phone_numbers=True,\n",
    "                        no_numbers=True,\n",
    "                        no_digits=True,\n",
    "                        no_currency_symbols=True,\n",
    "                        no_punct=False,\n",
    "                        no_emoji=True,\n",
    "                        replace_with_url='',\n",
    "                        replace_with_email='',\n",
    "                        replace_with_phone_number='',\n",
    "                        replace_with_number='',\n",
    "                        replace_with_digit='',\n",
    "                        replace_with_currency_symbol='',\n",
    "                        replace_with_punct='',\n",
    "                        lang='en') # White space\n",
    "text_data_clean2 "
   ]
  },
  {
   "cell_type": "code",
   "execution_count": null,
   "id": "197b07c3",
   "metadata": {},
   "outputs": [],
   "source": []
  },
  {
   "cell_type": "code",
   "execution_count": null,
   "id": "68553c22",
   "metadata": {},
   "outputs": [],
   "source": [
    "# Not: Regex ile boş noktalama işaretleri temizlenecek"
   ]
  },
  {
   "cell_type": "code",
   "execution_count": null,
   "id": "e8d3186f",
   "metadata": {},
   "outputs": [],
   "source": [
    "# df2[\"text\"] = df2[\"text\"].apply(lambda x: pd.Series(x).str.replace(\"(@+\\w+)\", \"\"))\n",
    "# df2[\"text\"]"
   ]
  },
  {
   "cell_type": "code",
   "execution_count": null,
   "id": "f0f0edc4",
   "metadata": {},
   "outputs": [],
   "source": []
  },
  {
   "cell_type": "code",
   "execution_count": null,
   "id": "58bdd62f",
   "metadata": {},
   "outputs": [],
   "source": []
  },
  {
   "cell_type": "code",
   "execution_count": null,
   "id": "98183e16",
   "metadata": {},
   "outputs": [],
   "source": []
  },
  {
   "cell_type": "code",
   "execution_count": null,
   "id": "746c0dea",
   "metadata": {},
   "outputs": [],
   "source": []
  },
  {
   "cell_type": "markdown",
   "id": "0da2c5c5",
   "metadata": {},
   "source": [
    "### Word Tokenize"
   ]
  },
  {
   "cell_type": "code",
   "execution_count": null,
   "id": "b626ec7d",
   "metadata": {},
   "outputs": [],
   "source": [
    "from nltk import word_tokenize,sent_tokenize"
   ]
  },
  {
   "cell_type": "code",
   "execution_count": null,
   "id": "f86a4c75",
   "metadata": {},
   "outputs": [],
   "source": [
    "word_token = word_tokenize(text_data_clean2.lower())\n",
    "word_token"
   ]
  },
  {
   "cell_type": "code",
   "execution_count": null,
   "id": "cdd5f09f",
   "metadata": {},
   "outputs": [],
   "source": [
    "tokens_without_punc = [w for w in word_token if w.isalpha()]\n",
    "tokens_without_punc"
   ]
  },
  {
   "cell_type": "code",
   "execution_count": null,
   "id": "b30dec3c",
   "metadata": {},
   "outputs": [],
   "source": [
    "from nltk.stem import WordNetLemmatizer"
   ]
  },
  {
   "cell_type": "code",
   "execution_count": null,
   "id": "c2f20e0d",
   "metadata": {},
   "outputs": [],
   "source": [
    "tokens_without_punc_lemma = []\n",
    "for word in tokens_without_punc:\n",
    "    tokens_without_punc_lemma.append(WordNetLemmatizer().lemmatize(word))\n",
    "tokens_without_punc_lemma "
   ]
  },
  {
   "cell_type": "code",
   "execution_count": null,
   "id": "345bc5c6",
   "metadata": {},
   "outputs": [],
   "source": [
    "tokens_without_punc = pd.Series(tokens_without_punc_lemma)\n",
    "tokens_without_punc"
   ]
  },
  {
   "cell_type": "code",
   "execution_count": null,
   "id": "fb7d6568",
   "metadata": {},
   "outputs": [],
   "source": [
    "len(tokens_without_punc)"
   ]
  },
  {
   "cell_type": "code",
   "execution_count": null,
   "id": "9bd03259",
   "metadata": {},
   "outputs": [],
   "source": [
    "freq_word = pd.Series(\" \".join(tokens_without_punc).split()).value_counts().sort_values(ascending=False)\n",
    "freq_word"
   ]
  },
  {
   "cell_type": "code",
   "execution_count": null,
   "id": "7aeb4af0",
   "metadata": {},
   "outputs": [],
   "source": [
    "freq_word_df = pd.DataFrame(freq_word)\n",
    "freq_word_df"
   ]
  },
  {
   "cell_type": "code",
   "execution_count": null,
   "id": "571a53c2",
   "metadata": {},
   "outputs": [],
   "source": [
    "freq_word_df = freq_word_df.reset_index()\n",
    "freq_word_df"
   ]
  },
  {
   "cell_type": "code",
   "execution_count": null,
   "id": "ad6e0c95",
   "metadata": {},
   "outputs": [],
   "source": [
    "freq_word_df = freq_word_df.rename(columns={\"index\": \"word\", 0 : \"frequency\"})\n",
    "freq_word_df "
   ]
  },
  {
   "cell_type": "code",
   "execution_count": null,
   "id": "818c6db8",
   "metadata": {},
   "outputs": [],
   "source": [
    "freq_word_df.frequency/(len(tokens_without_punc)*100)"
   ]
  },
  {
   "cell_type": "code",
   "execution_count": null,
   "id": "663ab878",
   "metadata": {},
   "outputs": [],
   "source": [
    "freq_word_df[\"ratio\"] = round((freq_word_df.frequency/len(tokens_without_punc)*100),4)\n",
    "freq_word_df"
   ]
  },
  {
   "cell_type": "code",
   "execution_count": null,
   "id": "8f190695",
   "metadata": {},
   "outputs": [],
   "source": [
    "freq_word_df.frequency.sum()"
   ]
  },
  {
   "cell_type": "code",
   "execution_count": null,
   "id": "e51ad419",
   "metadata": {},
   "outputs": [],
   "source": [
    "freq_word_df_2 = freq_word_df.iloc[:1000,:] # İlk bin satırı gözlemledik.\n",
    "freq_word_df_2"
   ]
  },
  {
   "cell_type": "code",
   "execution_count": null,
   "id": "f73b8e08",
   "metadata": {
    "scrolled": true
   },
   "outputs": [],
   "source": [
    "plt.figure(figsize=(12,8))\n",
    "sns.lineplot(x=\"word\", y=\"ratio\", data=freq_word_df_2)\n",
    "plt.xticks(rotation=90);"
   ]
  },
  {
   "cell_type": "code",
   "execution_count": null,
   "id": "ee8d5e41",
   "metadata": {
    "scrolled": true
   },
   "outputs": [],
   "source": [
    "freq_word_df[freq_word_df.ratio > 0.001]"
   ]
  },
  {
   "cell_type": "code",
   "execution_count": null,
   "id": "e11e38c8",
   "metadata": {},
   "outputs": [],
   "source": [
    "df2 = freq_word_df[freq_word_df.ratio > 0.001]\n",
    "df2"
   ]
  },
  {
   "cell_type": "code",
   "execution_count": null,
   "id": "a1b31bc7",
   "metadata": {},
   "outputs": [],
   "source": [
    "plt.figure(figsize=(12,8))\n",
    "sns.histplot(x=\"ratio\", data=freq_word_df,cumulative=True)\n",
    "plt.xticks(rotation=90);"
   ]
  },
  {
   "cell_type": "code",
   "execution_count": null,
   "id": "d6b43ba7",
   "metadata": {},
   "outputs": [],
   "source": [
    "# Not: Kelime kullanım oranı hesaplanmalı"
   ]
  },
  {
   "cell_type": "code",
   "execution_count": null,
   "id": "57ddfb7c",
   "metadata": {},
   "outputs": [],
   "source": [
    "freq_word_df.to_excel(\"Friends_Word.xlsx\", sheet_name='Word_tokenize', index=False)"
   ]
  },
  {
   "cell_type": "code",
   "execution_count": null,
   "id": "43dc6bfd",
   "metadata": {},
   "outputs": [],
   "source": []
  },
  {
   "cell_type": "markdown",
   "id": "5080e1cb",
   "metadata": {},
   "source": [
    "### Sentence Analysis"
   ]
  },
  {
   "cell_type": "code",
   "execution_count": null,
   "id": "223bc47c",
   "metadata": {},
   "outputs": [],
   "source": []
  },
  {
   "cell_type": "code",
   "execution_count": null,
   "id": "add9a521",
   "metadata": {},
   "outputs": [],
   "source": [
    "sentence = sent_tokenize(text_data_clean2)\n",
    "sentence"
   ]
  },
  {
   "cell_type": "code",
   "execution_count": null,
   "id": "3483b549",
   "metadata": {},
   "outputs": [],
   "source": [
    "sentence_lower =  []\n",
    "for i in sentence:\n",
    "    sentence_lower.append(i.lower())\n",
    "sentence_lower"
   ]
  },
  {
   "cell_type": "code",
   "execution_count": null,
   "id": "f1dfa3e7",
   "metadata": {
    "scrolled": true
   },
   "outputs": [],
   "source": [
    "sent_token_2 = []\n",
    "for i in sentence_lower:\n",
    "    sent_token_2.append(i.strip(\"-\").strip(\"\\n\").strip(\"(\").strip(\")\").strip(\",\").strip(\" \").strip(\", \"))\n",
    "sent_token_2"
   ]
  },
  {
   "cell_type": "code",
   "execution_count": null,
   "id": "aae5c0cb",
   "metadata": {},
   "outputs": [],
   "source": [
    "def sent_lemma(text):\n",
    "    a_1 = word_tokenize(text)\n",
    "    sent_lemma_list = []\n",
    "    for i in a_1:\n",
    "        sent_lemma_list.append(WordNetLemmatizer().lemmatize(i))\n",
    "        sentence_1 = \" \".join(sent_lemma_list)\n",
    "    return sentence_1"
   ]
  },
  {
   "cell_type": "code",
   "execution_count": null,
   "id": "e99b6a06",
   "metadata": {},
   "outputs": [],
   "source": [
    "sent_lemma_list = []\n",
    "for i in sent_token_2:\n",
    "    sent_lemma_list.append(sent_lemma(i))\n",
    "sent_lemma_list    "
   ]
  },
  {
   "cell_type": "code",
   "execution_count": null,
   "id": "49b531f3",
   "metadata": {},
   "outputs": [],
   "source": [
    "sent_token_2 = pd.DataFrame(sent_lemma_list)\n",
    "sent_token_2"
   ]
  },
  {
   "cell_type": "code",
   "execution_count": null,
   "id": "7afa4f50",
   "metadata": {},
   "outputs": [],
   "source": [
    "sent_token_2 = sent_token_2.rename(columns={0:\"sentence\"})\n",
    "sent_token_2"
   ]
  },
  {
   "cell_type": "code",
   "execution_count": null,
   "id": "88c1c35f",
   "metadata": {
    "scrolled": false
   },
   "outputs": [],
   "source": [
    "sent_token_no_punc = sent_token_2.sentence.apply(lambda x: re.sub(pattern=\"[^\\w\\s]\", repl=\"\", string=x))\n",
    "sent_token_no_punc"
   ]
  },
  {
   "cell_type": "code",
   "execution_count": null,
   "id": "7758f298",
   "metadata": {
    "scrolled": true
   },
   "outputs": [],
   "source": [
    "sent_token_no_punc_df = pd.DataFrame(data=sent_token_no_punc)\n",
    "sent_token_no_punc_df"
   ]
  },
  {
   "cell_type": "code",
   "execution_count": null,
   "id": "5032d7af",
   "metadata": {},
   "outputs": [],
   "source": [
    "def space(sentence):\n",
    "    a_1 = word_tokenize(sentence)\n",
    "    a_2 = \" \".join(a_1)\n",
    "    return a_2"
   ]
  },
  {
   "cell_type": "code",
   "execution_count": null,
   "id": "2483cb89",
   "metadata": {
    "scrolled": true
   },
   "outputs": [],
   "source": [
    "sent_token_no_punc_df.sentence = sent_token_no_punc_df.sentence.apply(lambda x : space(x))\n",
    "sent_token_no_punc_df"
   ]
  },
  {
   "cell_type": "code",
   "execution_count": null,
   "id": "39f4a85c",
   "metadata": {},
   "outputs": [],
   "source": [
    "sent_token_no_punc_df.iloc[0]"
   ]
  },
  {
   "cell_type": "code",
   "execution_count": null,
   "id": "9023d855",
   "metadata": {},
   "outputs": [],
   "source": [
    "sent_token_no_punc_df[sent_token_no_punc_df.sentence == \"\"]"
   ]
  },
  {
   "cell_type": "code",
   "execution_count": null,
   "id": "cb02b623",
   "metadata": {},
   "outputs": [],
   "source": [
    "sent_token_no_punc_df.drop(sent_token_no_punc_df[sent_token_no_punc_df.sentence == \"\"].index, inplace=True)"
   ]
  },
  {
   "cell_type": "code",
   "execution_count": null,
   "id": "46cee275",
   "metadata": {},
   "outputs": [],
   "source": [
    "sent_token_no_punc_df = sent_token_no_punc_df.sentence.value_counts().sort_values(ascending=False)\n",
    "sent_token_no_punc_df"
   ]
  },
  {
   "cell_type": "code",
   "execution_count": null,
   "id": "cdd18ef8",
   "metadata": {},
   "outputs": [],
   "source": [
    "sent_token_no_punc_df.head(20)"
   ]
  },
  {
   "cell_type": "code",
   "execution_count": null,
   "id": "c864e9a6",
   "metadata": {},
   "outputs": [],
   "source": [
    "sent_token_no_punc_df2 = pd.DataFrame(sent_token_no_punc_df)\n",
    "sent_token_no_punc_df2 = sent_token_no_punc_df2.reset_index()\n",
    "sent_token_no_punc_df2"
   ]
  },
  {
   "cell_type": "code",
   "execution_count": null,
   "id": "6537488a",
   "metadata": {
    "scrolled": true
   },
   "outputs": [],
   "source": [
    "sent_token_no_punc_df2 = sent_token_no_punc_df2.rename(columns={\"index\":\"sentence\", \"sentence\":\"frequency\"})\n",
    "sent_token_no_punc_df2"
   ]
  },
  {
   "cell_type": "code",
   "execution_count": null,
   "id": "1c96cc04",
   "metadata": {},
   "outputs": [],
   "source": [
    "total_value = sent_token_no_punc_df2.frequency.sum()\n",
    "total_value"
   ]
  },
  {
   "cell_type": "code",
   "execution_count": null,
   "id": "f9175d89",
   "metadata": {},
   "outputs": [],
   "source": [
    "sent_token_no_punc_df2[\"ratio\"] = (sent_token_no_punc_df2.frequency/total_value)*100"
   ]
  },
  {
   "cell_type": "code",
   "execution_count": null,
   "id": "ea04e2a9",
   "metadata": {
    "scrolled": true
   },
   "outputs": [],
   "source": [
    "sent_token_no_punc_df2.head(20)"
   ]
  },
  {
   "cell_type": "code",
   "execution_count": null,
   "id": "173e672c",
   "metadata": {},
   "outputs": [],
   "source": [
    "from nltk.stem import WordNetLemmatizer"
   ]
  },
  {
   "cell_type": "code",
   "execution_count": null,
   "id": "a94b986b",
   "metadata": {},
   "outputs": [],
   "source": [
    "WordNetLemmatizer().lemmatize(\"cries\")"
   ]
  },
  {
   "cell_type": "code",
   "execution_count": null,
   "id": "aa745324",
   "metadata": {},
   "outputs": [],
   "source": []
  },
  {
   "cell_type": "code",
   "execution_count": null,
   "id": "eba25eec",
   "metadata": {},
   "outputs": [],
   "source": [
    "# sent_token_no_punc_df2.to_excel(\"Friends_Sentence.xlsx\", sheet_name='Sentence_tokenize', index=False)"
   ]
  },
  {
   "cell_type": "code",
   "execution_count": null,
   "id": "a41f79e2",
   "metadata": {},
   "outputs": [],
   "source": [
    "# NOT: Sent tokenize max 10 word "
   ]
  },
  {
   "cell_type": "code",
   "execution_count": null,
   "id": "c6a3c278",
   "metadata": {},
   "outputs": [],
   "source": []
  },
  {
   "cell_type": "code",
   "execution_count": null,
   "id": "86a6e512",
   "metadata": {},
   "outputs": [],
   "source": [
    "text_10 = \"its just as well i cries mean last year wasnt very good\""
   ]
  },
  {
   "cell_type": "code",
   "execution_count": null,
   "id": "9cc072a0",
   "metadata": {},
   "outputs": [],
   "source": [
    "len(text_10.split())"
   ]
  },
  {
   "cell_type": "code",
   "execution_count": null,
   "id": "6c2154c4",
   "metadata": {},
   "outputs": [],
   "source": [
    "text = \"its just as well i cries mean last year wasnt very good\""
   ]
  },
  {
   "cell_type": "code",
   "execution_count": null,
   "id": "2043ca50",
   "metadata": {},
   "outputs": [],
   "source": [
    "def sent_lemma(text):\n",
    "    a_1 = word_tokenize(text)\n",
    "    sent_lemma_list = []\n",
    "    for i in a_1:\n",
    "        sent_lemma_list.append(WordNetLemmatizer().lemmatize(i))\n",
    "        sentence_1 = \" \".join(sent_lemma_list)\n",
    "    return sentence_1"
   ]
  },
  {
   "cell_type": "code",
   "execution_count": null,
   "id": "0f531852",
   "metadata": {},
   "outputs": [],
   "source": [
    "sent_lemma(text)"
   ]
  },
  {
   "cell_type": "code",
   "execution_count": null,
   "id": "401dd470",
   "metadata": {},
   "outputs": [],
   "source": []
  },
  {
   "cell_type": "code",
   "execution_count": null,
   "id": "57055400",
   "metadata": {},
   "outputs": [],
   "source": []
  },
  {
   "cell_type": "code",
   "execution_count": null,
   "id": "7bb55256",
   "metadata": {},
   "outputs": [],
   "source": []
  },
  {
   "cell_type": "code",
   "execution_count": null,
   "id": "e9fe1cbd",
   "metadata": {},
   "outputs": [],
   "source": []
  },
  {
   "cell_type": "code",
   "execution_count": null,
   "id": "c612c521",
   "metadata": {},
   "outputs": [],
   "source": []
  },
  {
   "cell_type": "code",
   "execution_count": null,
   "id": "462666b9",
   "metadata": {},
   "outputs": [],
   "source": []
  },
  {
   "cell_type": "code",
   "execution_count": null,
   "id": "c0ac477a",
   "metadata": {},
   "outputs": [],
   "source": []
  },
  {
   "cell_type": "code",
   "execution_count": null,
   "id": "e8835c1a",
   "metadata": {},
   "outputs": [],
   "source": []
  },
  {
   "cell_type": "code",
   "execution_count": null,
   "id": "a3e5de90",
   "metadata": {},
   "outputs": [],
   "source": []
  },
  {
   "cell_type": "code",
   "execution_count": null,
   "id": "a5771ec4",
   "metadata": {},
   "outputs": [],
   "source": []
  },
  {
   "cell_type": "code",
   "execution_count": null,
   "id": "4acf3946",
   "metadata": {},
   "outputs": [],
   "source": []
  },
  {
   "cell_type": "code",
   "execution_count": null,
   "id": "4f6a85dc",
   "metadata": {},
   "outputs": [],
   "source": []
  },
  {
   "cell_type": "code",
   "execution_count": null,
   "id": "e04a91e5",
   "metadata": {},
   "outputs": [],
   "source": []
  },
  {
   "cell_type": "code",
   "execution_count": null,
   "id": "cc20b75b",
   "metadata": {},
   "outputs": [],
   "source": []
  },
  {
   "cell_type": "code",
   "execution_count": null,
   "id": "1fbc7e6f",
   "metadata": {},
   "outputs": [],
   "source": []
  },
  {
   "cell_type": "code",
   "execution_count": null,
   "id": "e5e09079",
   "metadata": {},
   "outputs": [],
   "source": []
  },
  {
   "cell_type": "markdown",
   "id": "53174c4b",
   "metadata": {},
   "source": [
    "### Neat Text"
   ]
  },
  {
   "cell_type": "code",
   "execution_count": null,
   "id": "8f851ffc",
   "metadata": {},
   "outputs": [],
   "source": [
    "#!pip install neattext"
   ]
  },
  {
   "cell_type": "code",
   "execution_count": null,
   "id": "7362ae37",
   "metadata": {},
   "outputs": [],
   "source": [
    "import neattext as nt"
   ]
  },
  {
   "cell_type": "code",
   "execution_count": null,
   "id": "858f1e9e",
   "metadata": {},
   "outputs": [],
   "source": [
    "from neattext.functions import clean_text"
   ]
  },
  {
   "cell_type": "code",
   "execution_count": null,
   "id": "339c3010",
   "metadata": {},
   "outputs": [],
   "source": [
    "text_data"
   ]
  },
  {
   "cell_type": "code",
   "execution_count": null,
   "id": "9061879c",
   "metadata": {},
   "outputs": [],
   "source": [
    "text_data_clean2 = clean_text(text_data,\n",
    "                              puncts=False,\n",
    "                              stopwords=False,\n",
    "                              urls=False,\n",
    "                              emails=False,\n",
    "                              numbers=True,\n",
    "                              emojis=False,\n",
    "                              special_char=False,\n",
    "                              phone_num=False,\n",
    "                              non_ascii=False,\n",
    "                              multiple_whitespaces=False,\n",
    "                              contractions=False,\n",
    "                              currency_symbols=False,\n",
    "                              custom_pattern=None)\n",
    "text_data_clean2"
   ]
  },
  {
   "cell_type": "code",
   "execution_count": null,
   "id": "bbdf25a2",
   "metadata": {},
   "outputs": [],
   "source": [
    "custom_pattern1=\"#\"\n",
    "custom_pattern2=\"-\"\n",
    "custom_pattern3=(r'^\\w\\s')"
   ]
  },
  {
   "cell_type": "code",
   "execution_count": null,
   "id": "b9b502fc",
   "metadata": {},
   "outputs": [],
   "source": [
    "text_data_clean3 = clean_text(text_data,\n",
    "                              puncts=False,\n",
    "                              stopwords=False,\n",
    "                              urls=False,\n",
    "                              emails=False,\n",
    "                              numbers=True,\n",
    "                              emojis=True,\n",
    "                              special_char=False,\n",
    "                              phone_num=False,\n",
    "                              non_ascii=False,\n",
    "                              multiple_whitespaces=True,\n",
    "                              contractions=False,\n",
    "                              currency_symbols=False,\n",
    "                              custom_pattern=(r'^\\w\\s')\n",
    "                              )\n",
    "text_data_clean3"
   ]
  },
  {
   "cell_type": "markdown",
   "id": "90e77219",
   "metadata": {},
   "source": [
    "### Regex"
   ]
  },
  {
   "cell_type": "code",
   "execution_count": null,
   "id": "f6b10b87",
   "metadata": {},
   "outputs": [],
   "source": [
    "import re"
   ]
  },
  {
   "cell_type": "code",
   "execution_count": null,
   "id": "c4e016aa",
   "metadata": {},
   "outputs": [],
   "source": [
    "text_data"
   ]
  },
  {
   "cell_type": "code",
   "execution_count": null,
   "id": "f915c1be",
   "metadata": {},
   "outputs": [],
   "source": [
    "text = re.search('[^\\w\\s]',text_data)\n",
    "text.group()"
   ]
  },
  {
   "cell_type": "code",
   "execution_count": null,
   "id": "78910941",
   "metadata": {},
   "outputs": [],
   "source": [
    "text = re.sub('^\\w\\s',repl=\"\", string=text_data)\n",
    "text"
   ]
  },
  {
   "cell_type": "code",
   "execution_count": null,
   "id": "1b2447ca",
   "metadata": {},
   "outputs": [],
   "source": [
    "text = text_data.str.extract('^\\w\\s')\n",
    "text"
   ]
  },
  {
   "cell_type": "code",
   "execution_count": null,
   "id": "fd987365",
   "metadata": {},
   "outputs": [],
   "source": []
  },
  {
   "cell_type": "code",
   "execution_count": null,
   "id": "31879ec3",
   "metadata": {},
   "outputs": [],
   "source": []
  },
  {
   "cell_type": "code",
   "execution_count": null,
   "id": "5147a371",
   "metadata": {},
   "outputs": [],
   "source": []
  }
 ],
 "metadata": {
  "interpreter": {
   "hash": "43a9cd95aa030499ef934e4da31e07dde54f3fc3a1fd0cc4aeef7f16459ee2ac"
  },
  "kernelspec": {
   "display_name": "Python 3.9.0 64-bit (system)",
   "name": "python3"
  },
  "language_info": {
   "codemirror_mode": {
    "name": "ipython",
    "version": 3
   },
   "file_extension": ".py",
   "mimetype": "text/x-python",
   "name": "python",
   "nbconvert_exporter": "python",
   "pygments_lexer": "ipython3",
   "version": "3.9.0"
  }
 },
 "nbformat": 4,
 "nbformat_minor": 5
}
