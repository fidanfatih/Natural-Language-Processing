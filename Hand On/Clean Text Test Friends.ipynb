{
 "cells": [
  {
   "cell_type": "code",
   "execution_count": 1,
   "id": "4ae387e1",
   "metadata": {},
   "outputs": [],
   "source": [
    "import numpy as np\n",
    "import pandas as pd\n",
    "import re\n",
    "import nltk\n",
    "import matplotlib.pyplot as plt\n",
    "import seaborn as sns"
   ]
  },
  {
   "cell_type": "code",
   "execution_count": 2,
   "id": "6ee32c3c",
   "metadata": {},
   "outputs": [
    {
     "name": "stderr",
     "output_type": "stream",
     "text": [
      "ERROR: Invalid requirement: '#'\n",
      "WARNING: You are using pip version 21.2.4; however, version 21.3 is available.\n",
      "You should consider upgrading via the 'C:\\Users\\Ertuğrul\\AppData\\Local\\Programs\\Python\\Python39\\python.exe -m pip install --upgrade pip' command.\n"
     ]
    }
   ],
   "source": [
    "!pip install unicodedata2  # for clean text"
   ]
  },
  {
   "cell_type": "code",
   "execution_count": null,
   "id": "ca41559a",
   "metadata": {
    "scrolled": false
   },
   "outputs": [],
   "source": [
    "# try:\n",
    "#   with open(\"S01E01 Monica Gets A Roommate.txt\", \"r\", encoding=\"utf-8\") as file:\n",
    "#     text_data = file.readlines()\n",
    "#     print(text_data)\n",
    "# except:\n",
    "#   print(\"There is not such a file  or path is incorrect\")"
   ]
  },
  {
   "cell_type": "code",
   "execution_count": null,
   "id": "130ddb8c",
   "metadata": {},
   "outputs": [],
   "source": [
    "# text_data = \" \".join(text_data)\n",
    "# text_data = text_data.split(\"\\n\") # Remove \"\\n\"\n",
    "# text_data = \" \".join(text_data)\n",
    "# text_data"
   ]
  },
  {
   "cell_type": "code",
   "execution_count": 5,
   "id": "531811c9",
   "metadata": {},
   "outputs": [
    {
     "name": "stdout",
     "output_type": "stream",
     "text": [
      "The One Where Monica Gets a New Roommate (The Pilot-The Uncut Version)\n",
      "Written by: Marta Kauffman & David Crane\n",
      "\n",
      "\n",
      "[Scene: Central Perk, Chandler, Joey, Phoebe, and Monica are there.]\n",
      "\n",
      "Monica: There's nothing to tell! He's just some guy I work with!\n",
      "\n",
      "Joey: C'mon, you're going out with the guy! There's gotta be something wrong with him!\n",
      "\n",
      "Chandler: All right Joey, be nice.  So does he have a hump? A hump and a hairpiece?\n",
      "\n",
      "Phoebe: Wait, does he eat chalk?\n",
      "\n",
      "(They all stare, bemused.)\n",
      "\n",
      "Phoebe: Just, 'cause, I don't want her to go through what I went through with Carl- oh!\n",
      "\n",
      "Monica: Okay, everybody relax. This is not even a date. It's just two people going out to dinner and- not having sex.\n",
      "\n",
      "Chandler: Sounds like a date to me.\n",
      "\n",
      "[Time Lapse]\n",
      "\n",
      "Chandler: Alright, so I'm back in high school, I'm standing in the middle of the cafeteria, and I realize I am totally naked.\n",
      "\n",
      "All: Oh, yeah. Had that dream.\n",
      "\n",
      "Chandler: Then I look down, and I realize there's a phone... there.\n",
      "\n",
      "Joey: Instead of...?\n",
      "\n",
      "Chandler: That's right.\n",
      "\n",
      "Joey: Never had that dream.\n",
      "\n",
      "Phoebe: No.\n",
      "\n",
      "Chandler: All of a sudden, the phone starts to ring. Now I don't know what to do, everybody starts looking at me.\n",
      "\n",
      "Monica: And they weren't looking at you before?!\n",
      "\n",
      "Chandler: Finally, I figure I'd better answer it, and it turns out it's my mother, which is very-very weird, because- she never calls me!\n",
      "\n",
      "[Time Lapse, Ross has entered.]\n",
      "\n",
      "Ross: (mortified) Hi.\n",
      "\n",
      "Joey: This guy says hello, I wanna kill myself.\n",
      "\n",
      "Monica: Are you okay, sweetie?\n",
      "\n",
      "Ross: I just feel like someone reached down my throat, grabbed my small intestine, pulled it out of my mouth and tied it around my neck...\n",
      "\n",
      "Chandler: Cookie?\n",
      "\n",
      "Monica: (explaining to the others) Carol moved her stuff out today.\n",
      "\n",
      "Joey: Ohh.\n",
      "\n",
      "Monica: (to Ross) Let me get you some coffee.\n",
      "\n",
      "Ross: Thanks.\n",
      "\n",
      "Phoebe: Ooh! Oh! (She starts to pluck at the air just in front of Ross.)\n",
      "\n",
      "Ross: No, no don't! Stop cleansing my aura! No, just leave my aura alone, okay?\n",
      "\n",
      "Phoebe: Fine!  Be murky!\n",
      "\n",
      "Ross: I'll be fine, alright? Really, everyone. I hope she'll be very happy.\n",
      "\n",
      "Monica: No you don't.\n",
      "\n",
      "Ross: No I don't, to hell with her, she left me!\n",
      "\n",
      "Joey: And you never knew she was a lesbian...\n",
      "\n",
      "Ross: No!! Okay?! Why does everyone keep fixating on that? She didn't know, how should I know?\n",
      "\n",
      "Chandler: Sometimes I wish I was a lesbian... (They all stare at him.) Did I say that out loud?\n",
      "\n",
      "Ross: I told mom and dad last night, they seemed to take it pretty well.\n",
      "\n",
      "Monica: Oh really, so that hysterical phone call I got from a woman at sobbing 3:00 A.M., \"I'll never have grandchildren, I'll never have grandchildren.\" was what?  A wrong number?\n",
      "\n",
      "Ross: Sorry.\n",
      "\n",
      "Joey: Alright Ross, look. You're feeling a lot of pain right now. You're angry. You're hurting. Can I tell you what the answer is?\n",
      "\n",
      "(Ross gestures his consent.)\n",
      "\n",
      "Joey: Strip joint! C'mon, you're single! Have some hormones!\n",
      "\n",
      "Ross: I don't want to be single, okay? I just... I just- I just wanna be married again!\n",
      "\n",
      "(Rachel enters in a wet wedding dress and starts to search the room.)\n",
      "\n",
      "Chandler: And I just want a million dollars! (He extends his hand hopefully.)\n",
      "\n",
      "Monica: Rachel?!\n",
      "\n",
      "Rachel: Oh God Monica hi! Thank God! I just went to your building and you weren't there and then this guy with a big hammer said you might be here and you are, you are!\n",
      "\n",
      "Waitress: Can I get you some coffee?\n",
      "\n",
      "Monica: (pointing at Rachel) De-caff. (to All) Okay, everybody, this is Rachel, another Lincoln High survivor. (to Rachel) This is everybody, this is Chandler, and Phoebe, and Joey, and- you remember my brother Ross?\n",
      "\n",
      "Rachel: Hi, sure!\n",
      "\n",
      "Ross: Hi.\n",
      "\n",
      "(They go to hug but Ross's umbrella opens.  He sits back down defeated again.  A moment of silence follows as Rachel sits and the others expect her to explain.)\n",
      "\n",
      "Monica: So you wanna tell us now, or are we waiting for four wet bridesmaids?\n",
      "\n",
      "Rachel: Oh God... well, it started about a half hour before the wedding. I was in the room where we were keeping all the presents, and I was looking at this gravy boat. This really gorgeous Lamauge gravy boat. When all of a sudden- (to the waitress that brought her coffee)Sweet 'n' Lo?- I realized that I was more turned on by this gravy boat than by Barry! And then I got really freaked out, and that's when it hit me: how much Barry looks like Mr. Potato Head. Y'know, I mean, I always knew looked familiar, but... Anyway, I just had to get out of there, and I started wondering 'Why am I doing this, and who am I doing this for?'. (to Monica) So anyway I just didn't know where to go, and I know that you and I have kinda drifted apart, but you're the only person I knew who lived here in the city.\n",
      "\n",
      "Monica: Who wasn't invited to the wedding.\n",
      "\n",
      "Rachel: Ooh, I was kinda hoping that wouldn't be an issue... [Scene: Monica's Apartment, everyone is there and watching a Spanish Soap on TV and are trying to figure out what is going on.]\n",
      "\n",
      "Monica: Now I'm guessing that he bought her the big pipe organ, and she's really not happy about it.\n",
      "\n",
      "Chandler: (imitating the characters) Tuna or egg salad?  Decide!\n",
      "\n",
      "Ross: (in a deep voice) I'll have whatever Christine is having.\n",
      "\n",
      "Rachel: (on phone) Daddy, I just... I can't marry him! I'm sorry. I just don't love him. Well, it matters to me!\n",
      "\n",
      "(The scene on TV has changed to show two women, one is holding her hair.)\n",
      "\n",
      "Phoebe:  If I let go of my hair, my head will fall off.\n",
      "\n",
      "Chandler: (re TV) Ooh, she should not be wearing those pants.\n",
      "\n",
      "Joey: I say push her down the stairs.\n",
      "\n",
      "Phoebe, Ross, Chandler, and Joey:  Push her down the stairs! Push her down the stairs! Push her down the stairs!\n",
      "\n",
      "(She is pushed down the stairs and everyone cheers.)\n",
      "\n",
      "Rachel: C'mon Daddy, listen to me! It's like, it's like, all of my life, everyone has always told me, 'You're a shoe! You're a shoe, you're a shoe, you're a shoe!'. And today I just stopped and I said, 'What if I don't wanna be a shoe? What if I wanna be a- a purse, y'know? Or a- or a hat! No, I'm not saying I want you to buy me a hat, I'm saying I am a ha- It's a metaphor, Daddy!\n",
      "\n",
      "Ross: You can see where he'd have trouble.\n",
      "\n",
      "Rachel: Look Daddy, it's my life. Well maybe I'll just stay here with Monica.\n",
      "\n",
      "Monica: Well, I guess we've established who's staying here with Monica...\n",
      "\n",
      "Rachel: Well, maybe that's my decision. Well, maybe I don't need your money. Wait!! Wait, I said maybe!!\n",
      "\n",
      "[Time Lapse, Rachel is breating into a paper bag.]\n",
      "\n",
      "Monica: Just breathe, breathe.. that's it. Just try to think of nice calm things...\n",
      "\n",
      "Phoebe: (sings) Raindrops on roses and rabbits and kittens, (Rachel and Monica turn to look at her.) bluebells and sleighbells and- something with mittens... La la la la...something and noodles with string.  These are a few...\n",
      "\n",
      "Rachel: I'm all better now.\n",
      "\n",
      "Phoebe: (grins and walks to the kitchen and says to Chandler and Joey.) I helped!\n",
      "\n",
      "Monica: Okay, look, this is probably for the best, y'know? Independence. Taking control of your life.  The whole, 'hat' thing.\n",
      "\n",
      "Joey: (comforting her) And hey, you need anything, you can always come to Joey. Me and Chandler live across the hall. And he's away a lot.\n",
      "\n",
      "Monica: Joey, stop hitting on her! It's her wedding day!\n",
      "\n",
      "Joey: What, like there's a rule or something?\n",
      "\n",
      "(The door buzzer sounds and Chandler gets it.)\n",
      "\n",
      "Chandler: Please don't do that again, it's a horrible sound.\n",
      "\n",
      "Paul: (over the intercom) It's, uh, it's Paul.\n",
      "\n",
      "Monica: Oh God, is it 6:30?  Buzz him in!\n",
      "\n",
      "Joey: Who's Paul?\n",
      "\n",
      "Ross: Paul the Wine Guy, Paul?\n",
      "\n",
      "Monica: Maybe. Joey: Wait. Your 'not a real date' tonight is with Paul the Wine Guy?\n",
      "\n",
      "Ross: He finally asked you out?\n",
      "\n",
      "Monica: Yes!\n",
      "\n",
      "Chandler: Ooh, this is a Dear Diary moment.\n",
      "\n",
      "Monica: Rach, wait, I can cancel...\n",
      "\n",
      "Rachel: Please, no, go, that'd be fine!\n",
      "\n",
      "Monica: (to Ross) Are, are you okay? I mean, do you want me to stay?\n",
      "\n",
      "Ross: (choked voice) That'd be good...\n",
      "\n",
      "Monica: (horrified) Really?\n",
      "\n",
      "Ross: (normal voice) No, go on! It's Paul the Wine Guy!\n",
      "\n",
      "Phoebe: What does that mean?   Does he sell it, drink it, or just complain a lot? (Chandler doesn't know.)\n",
      "\n",
      "(There's a knock on the door and it's Paul.)\n",
      "\n",
      "Monica: Hi, come in! Paul, this is.. (They are all lined up next to the door.)... everybody, everybody, this is Paul.\n",
      "\n",
      "All: Hey! Paul! Hi! The Wine Guy! Hey!\n",
      "\n",
      "Chandler: I'm sorry, I didn't catch your name. Paul, was it?\n",
      "\n",
      "Monica: Okay, umm-umm, I'll just--I'll be right back, I just gotta go ah, go ah...\n",
      "\n",
      "Ross: A wandering?\n",
      "\n",
      "Monica: Change!  Okay, sit down. (Shows Paul in) Two seconds.\n",
      "\n",
      "Phoebe: Ooh, I just pulled out four eyelashes. That can't be good.\n",
      "\n",
      "(Monica goes to change.)\n",
      "\n",
      "Joey:  Hey, Paul!\n",
      "\n",
      "Paul: Yeah?\n",
      "\n",
      "Joey: Here's a little tip, she really likes it when you rub her neck in the same spot over and over and over again until it starts to get a little red.\n",
      "\n",
      "Monica: (yelling from the bedroom) Shut up, Joey!\n",
      "\n",
      "Ross: So Rachel, what're you, uh... what're you up to tonight?\n",
      "\n",
      "Rachel: Well, I was kinda supposed to be headed for Aruba on my honeymoon, so nothing!\n",
      "\n",
      "Ross: Right, you're not even getting your honeymoon, God.. No, no, although, Aruba, this time of year... talk about your- (thinks) -big lizards... Anyway, if you don't feel like being alone tonight, Joey and Chandler are coming over to help me put together my new furniture.\n",
      "\n",
      "Chandler: (deadpan) Yes, and we're very excited about it.\n",
      "\n",
      "Rachel: Well actually thanks, but I think I'm just gonna hang out here tonight.  It's been kinda a long day.\n",
      "\n",
      "Ross: Okay, sure.\n",
      "\n",
      "Joey: Hey Pheebs, you wanna help?\n",
      "\n",
      "Phoebe: Oh, I wish I could, but I don't want to.\n",
      "\n",
      "Commercial Break\n",
      "\n",
      "[Scene: The Subway, Phoebe is singing for change.]\n",
      "\n",
      "Phoebe: (singing) Love is sweet as summer showers, love is a wondrous work of art, but your love oh your love, your love...is like a giant pigeon...crapping on my heart.  La-la-la-la-la- (some guy gives her some change and to that guy) Thank you. (sings) La-la-la-la...ohhh!\n",
      "\n",
      "[Scene: Ross's Apartment, the guys are there assembling furniture.]\n",
      "\n",
      "Ross: (squatting and reading the instructions) I'm supposed to attach a brackety thing to the side things, using a bunch of these little worm guys. I have no brackety thing, I see no whim guys whatsoever and- I cannot feel my legs.\n",
      "\n",
      "(Joey and Chandler are finishing assembling the bookcase.)\n",
      "\n",
      "Joey: I'm thinking we've got a bookcase here.\n",
      "\n",
      "Chandler: It's a beautiful thing.\n",
      "\n",
      "Joey: (picking up a leftover part) What's this?\n",
      "\n",
      "Chandler: I would have to say that is an 'L'-shaped bracket.\n",
      "\n",
      "Joey: Which goes where?\n",
      "\n",
      "Chandler: I have no idea.\n",
      "\n",
      "(Joey checks that Ross is not looking and dumps it in a plant.)\n",
      "\n",
      "Joey: Done with the bookcase!\n",
      "\n",
      "Chandler: All finished!\n",
      "\n",
      "Ross: (clutching a beer can and sniffing) This was Carol's favorite beer. She always drank it out of the can, I should have known.\n",
      "\n",
      "Joey: Hey-hey-hey-hey, if you're gonna start with that stuff we're outta here.\n",
      "\n",
      "Chandler: Yes, please don't spoil all this fun.\n",
      "\n",
      "Joey: Ross, let me ask you a question. She got the furniture, the stereo, the good TV- what did you get?\n",
      "\n",
      "Ross: You guys.\n",
      "\n",
      "Chandler: Oh, God.\n",
      "\n",
      "Joey: You got screwed.\n",
      "\n",
      "Chandler: Oh my God!\n",
      "\n",
      "[Scene: A Restaurant, Monica and Paul are eating.]\n",
      "\n",
      "Monica: Oh my God!\n",
      "\n",
      "Paul: I know, I know, I'm such an idiot. I guess I should have caught on when she started going to the dentist four and five times a week. I mean, how clean can teeth get?\n",
      "\n",
      "Monica: My brother's going through that right now, he's such a mess. How did you get through it?\n",
      "\n",
      "Paul: Well, you might try accidentally breaking something valuable of hers, say her-\n",
      "\n",
      "Monica: -leg?\n",
      "\n",
      "Paul: (laughing) That's one way! Me, I- I went for the watch.\n",
      "\n",
      "Monica: You actually broke her watch?  Wow!  The worst thing I ever did was, I-I shredded by boyfriend's favorite bath towel.\n",
      "\n",
      "Paul: Ooh, steer clear of you.\n",
      "\n",
      "Monica: That's right. [Scene: Monica's Apartment, Rachel is talking on the phone and pacing.]\n",
      "\n",
      "Rachel: Barry, I'm sorry... I am so sorry... I know you probably think that this is all about what I said the other day about you making love with your socks on, but it isn't... it isn't, it's about me, and I ju- (She stops talking and dials the phone.) Hi, machine cut me off again... anyway...look, look, I know that some girl is going to be incredibly lucky to become Mrs. Barry Finkel, but it isn't me, it's not me.  And not that I have any idea who me is right now, but you just have to give me a chance too... (The maching cuts her off again and she redials.)\n",
      "\n",
      "[Scene: Ross's Apartment; Ross is pacing while Joey and Chandler are working on some more furniture.]\n",
      "\n",
      "Ross: I'm divorced!  I'm only 26 and I'm divorced!\n",
      "\n",
      "Joey: Shut up!\n",
      "\n",
      "Chandler: You must stop! (Chandler hits what he is working on with a hammer and it collapses.)\n",
      "\n",
      "Ross: That only took me an hour.\n",
      "\n",
      "Chandler: Look, Ross, you gotta understand, between us we haven't had a relationship that has lasted longer than a Mento.   You, however have had the love of a woman for four years.   Four years of closeness and sharing at the end of which she ripped your heart out, and that is why we don't do it!  I don't think that was my point!\n",
      "\n",
      "Ross: You know what the scariest part is? What if there's only one woman for everybody, y'know? I mean what if you get one woman- and that's it? Unfortunately in my case, there was only one woman- for her...\n",
      "\n",
      "Joey: What are you talking about? 'One woman'? That's like saying there's only one flavor of ice cream for you. Lemme tell you something, Ross. There's lots of flavors out there. There's Rocky Road, and Cookie Dough, and Bing! Cherry Vanilla. You could get 'em with Jimmies, or nuts, or whipped cream! This is the best thing that ever happened to you! You got married, you were, like, what, eight? Welcome back to the world! Grab a spoon!\n",
      "\n",
      "Ross: I honestly don't know if I'm hungry or horny.\n",
      "\n",
      "Chandler: Stay out of my freezer! [Scene: A Restaurant, Monica and Paul are still eating.]\n",
      "\n",
      "Paul: Ever since she walked out on me, I, uh...\n",
      "\n",
      "Monica: What?..... What, you wanna spell it out with noodles?\n",
      "\n",
      "Paul: No, it's, it's more of a fifth date kinda revelation.\n",
      "\n",
      "Monica: Oh, so there is gonna be a fifth date?\n",
      "\n",
      "Paul: Isn't there?\n",
      "\n",
      "Monica: Yeah... yeah, I think there is. -What were you gonna say?\n",
      "\n",
      "Paul: Well, ever-ev-... ever since she left me, um, I haven't been able to, uh, perform. (Monica takes a sip of her drink.) ...Sexually.\n",
      "\n",
      "Monica: (spitting out her drink in shock) Oh God, oh God, I am sorry... I am so sorry...\n",
      "\n",
      "Paul: It's okay...\n",
      "\n",
      "Monica: I know being spit on is probably not what you need right now. Um... how long?\n",
      "\n",
      "Paul: Two years.\n",
      "\n",
      "Monica: Wow! I'm-I'm-I'm glad you smashed her watch!\n",
      "\n",
      "Paul: So you still think you, um... might want that fifth date?\n",
      "\n",
      "Monica: (pause)...Yeah. Yeah, I do.\n",
      "\n",
      "[Scene: Monica's Apartment, Rachel is watching Joanne Loves Chaci.]\n",
      "\n",
      "Priest on TV: We are gathered here today to join Joanne Louise Cunningham and Charles, Chachi-Chachi-Chachi, Arcola in the bound of holy matrimony.\n",
      "\n",
      "Rachel: Oh...see... but Joanne loved Chachi! That's the difference!\n",
      "\n",
      "[Scene: Ross's Apartment, they're all sitting around and talking.]\n",
      "\n",
      "Ross: (scornful) Grab a spoon. Do you know how long it's been since I've grabbed a spoon? Do the words 'Billy, don't be a hero' mean anything to you?\n",
      "\n",
      "Joey: Great story!  But, I uh, I gotta go, I got a date with Andrea--Angela--Andrea...  Oh man, (looks to Chandler)\n",
      "\n",
      "Chandler: Angela's the screamer, Andrea has cats.\n",
      "\n",
      "Joey: Right.  Thanks.  It's June.  I'm outta here. (Exits.)\n",
      "\n",
      "Ross: Y'know, here's the thing. Even if I could get it together enough to- to ask a woman out,... who am I gonna ask? (He gazes out of the window.)\n",
      "\n",
      "[Cut to Rachel staring out of her window.]\n",
      "\n",
      "Commercial Break\n",
      "\n",
      "[Scene: Monica's Apartment, Rachel is making coffee for Joey and Chandler.]\n",
      "\n",
      "Rachel: Isn't this amazing? I mean, I have never made coffee before in my entire life.\n",
      "\n",
      "Chandler: That is amazing.\n",
      "\n",
      "Joey: Congratulations.\n",
      "\n",
      "Rachel: Y'know, I figure if I can make coffee, there isn't anything I can't do.\n",
      "\n",
      "Chandler: If can invade Poland, there isn't anything I can't do.\n",
      "\n",
      "Joey: Listen, while you're on a roll, if you feel like you gotta make like a Western omelet or something... (Joey and Chandler taste the coffee, grimace, and pour it into a plant pot.) Although actually I'm really not that hungry...\n",
      "\n",
      "Monica: (entering, to herself) Oh good, Lenny and Squigy are here.\n",
      "\n",
      "All: Morning. Good morning.\n",
      "\n",
      "Paul: (entering from Monica's room) Morning.\n",
      "\n",
      "Joey: Morning, Paul.\n",
      "\n",
      "Rachel: Hello, Paul.\n",
      "\n",
      "Chandler: Hi, Paul, is it?\n",
      "\n",
      "(Monica and Paul walk to the door and talk in a low voice so the others can't hear.  The others move Monica's table closer to the door so that they can.)\n",
      "\n",
      "Paul: Thank you!  Thank you so much!\n",
      "\n",
      "Monica: Stop!\n",
      "\n",
      "Paul: No, I'm telling you last night was like umm, all my birthdays, both graduations, plus the barn raising scene in Witness.\n",
      "\n",
      "Monica: We'll talk later.\n",
      "\n",
      "Paul: Yeah. (They kiss) Thank you. (Exits)\n",
      "\n",
      "Joey: That wasn't a real date?! What the hell do you do on a real date?\n",
      "\n",
      "Monica: Shut up, and put my table back.\n",
      "\n",
      "All: Okayyy! (They do so.)\n",
      "\n",
      "Chandler: All right, kids, I gotta get to work. If I don't input those numbers,... it doesn't make much of a difference...\n",
      "\n",
      "Rachel: So, like, you guys all have jobs?\n",
      "\n",
      "Monica: Yeah, we all have jobs. See, that's how we buy stuff.\n",
      "\n",
      "Joey: Yeah, I'm an actor.\n",
      "\n",
      "Rachel: Wow! Would I have seen you in anything?\n",
      "\n",
      "Joey: I doubt it. Mostly regional work.\n",
      "\n",
      "Monica: Oh wait, wait, unless you happened to catch the Reruns' production of Pinocchio, at the little theater in the park.\n",
      "\n",
      "Joey: Look, it was a job all right?\n",
      "\n",
      "Chandler: 'Look, Gippetto, I'm a real live boy.'\n",
      "\n",
      "Joey: I will not take this abuse. (Walks to the door and opens it to leave.)\n",
      "\n",
      "Chandler: You're right, I'm sorry. (Burst into song and dances out of the door.) \"Once I was a wooden boy, a little wooden boy...\"\n",
      "\n",
      "Joey: You should both know, that he's a dead man.  Oh, Chandler? (Starts after Chandler.)\n",
      "\n",
      "Monica: So how you doing today? Did you sleep okay? Talk to Barry? I can't stop smiling.\n",
      "\n",
      "Rachel: I can see that. You look like you slept with a hanger in your mouth.\n",
      "\n",
      "Monica: I know, he's just so, so... Do you remember you and Tony DeMarco?\n",
      "\n",
      "Rachel: Oh, yeah.\n",
      "\n",
      "Monica: Well, it's like that. With feelings.\n",
      "\n",
      "Rachel: Oh wow. Are you in trouble.\n",
      "\n",
      "Monica: Big time!\n",
      "\n",
      "Rachel: Want a wedding dress?   Hardly used.\n",
      "\n",
      "Monica: I think we are getting a little ahead of selves here. Okay. Okay. I am just going to get up, go to work and not think about him all day. Or else I'm just gonna get up and go to work.\n",
      "\n",
      "Rachel: Oh, look, wish me luck!\n",
      "\n",
      "Monica: What for?\n",
      "\n",
      "Rachel: I'm gonna go get one of those (Thinks) job things.\n",
      "\n",
      "(Monica exits.)\n",
      "\n",
      "[Scene: Iridium, Monica is working as Frannie enters.]\n",
      "\n",
      "Frannie: Hey, Monica!\n",
      "\n",
      "Monica: Hey Frannie, welcome back! How was Florida?\n",
      "\n",
      "Frannie: You had sex, didn't you?\n",
      "\n",
      "Monica: How do you do that?\n",
      "\n",
      "Frannie: Oh, I hate you, I'm pushing my Aunt Roz through Parrot Jungle and you're having sex!  So? Who?\n",
      "\n",
      "Monica: You know Paul?\n",
      "\n",
      "Frannie: Paul the Wine Guy? Oh yeah, I know Paul.\n",
      "\n",
      "Monica: You mean you know Paul like I know Paul?\n",
      "\n",
      "Frannie: Are you kidding? I take credit for Paul. Y'know before me, there was no snap in his turtle for two years.\n",
      "\n",
      "[Scene: Central Perk, everyone but Rachel is there.]\n",
      "\n",
      "Joey: (sitting on the arm of the couch)Of course it was a line!\n",
      "\n",
      "Monica: Why?! Why? Why, why would anybody do something like that?\n",
      "\n",
      "Ross: I assume we're looking for an answer more sophisticated than 'to get you into bed'.\n",
      "\n",
      "Monica: I hate men!  I hate men!\n",
      "\n",
      "Phoebe: Oh no, don't hate, you don't want to put that out into the universe.\n",
      "\n",
      "Monica: Is it me? Is it like I have some sort of beacon that only dogs and men with severe emotional problems can hear?\n",
      "\n",
      "Phoebe: All right, c'mere, gimme your feet. (She starts massaging them.)\n",
      "\n",
      "Monica: I just thought he was nice, y'know?\n",
      "\n",
      "Joey: (bursts out laughing again) I can't believe you didn't know it was a line!\n",
      "\n",
      "(Monica pushes him off of the sofa as Rachel enters with a shopping bag.)\n",
      "\n",
      "Rachel: Guess what?\n",
      "\n",
      "Ross: You got a job?\n",
      "\n",
      "Rachel: Are you kidding? I'm trained for nothing! I was laughed out of twelve interviews today.\n",
      "\n",
      "Chandler: And yet you're surprisingly upbeat.\n",
      "\n",
      "Rachel: You would be too if you found John and David boots on sale, fifty percent off!\n",
      "\n",
      "Chandler: Oh, how well you know me...\n",
      "\n",
      "Rachel: They're my new 'I don't need a job, I don't need my parents, I've got great boots' boots!\n",
      "\n",
      "Monica: How'd you pay for them?\n",
      "\n",
      "Rachel: Uh, credit card.\n",
      "\n",
      "Monica: And who pays for that?\n",
      "\n",
      "Rachel: Um... my... father.\n",
      "\n",
      "[Scene: Monica and Rachel's, everyone is sitting around the kitchen table.   Rachel's credit cards are spread out on the table along with a pair of scissors.]\n",
      "\n",
      "Rachel: Oh God, come on you guys, is this really necessary?  I mean, I can stop charging anytime I want.\n",
      "\n",
      "Monica: C'mon, you can't live off your parents your whole life.\n",
      "\n",
      "Rachel: I know that. That's why I was getting married.\n",
      "\n",
      "Phoebe: Give her a break, it's hard being on your own for the first time.\n",
      "\n",
      "Rachel: Thank you.\n",
      "\n",
      "Phoebe: You're welcome. I remember when I first came to this city. I was fourteen. My mom had just killed herself and my step-dad was back in prison, and I got here, and I didn't know anybody. And I ended up living with this albino guy who was, like, cleaning windshields outside port authority, and then he killed himself, and then I found aromatherapy. So believe me, I know exactly how you feel.\n",
      "\n",
      "(Pause)\n",
      "\n",
      "Ross: The word you're looking for is 'Anyway'...\n",
      "\n",
      "Monica: All right, you ready?\n",
      "\n",
      "Rachel: No.  No, no, I'm not ready!  How can I be ready?  \"Hey, Rach!  You ready to jump out the airplane without your parachute?\"  Come on, I can't do this!\n",
      "\n",
      "Monica: You can, I know you can!\n",
      "\n",
      "Rachel: I don't think so.\n",
      "\n",
      "Ross: Come on, you made coffee!   You can do anything! (Chandler slowly tries to hide the now dead plant from that morning when he and Joey poured their coffee into it.)\n",
      "\n",
      "Ross: C'mon, cut. Cut, cut, cut,...\n",
      "\n",
      "All: Cut, cut, cut, cut, cut, cut, cut... (She cuts one of them and they cheer.)\n",
      "\n",
      "Rachel: Y'know what?  I think we can just leave it at that.  It's kinda like a symbolic gesture...\n",
      "\n",
      "Monica:  Rachel!  That was a library card!\n",
      "\n",
      "All: Cut, cut, cut, cut, cut, cut, cut..\n",
      "\n",
      "Chandler: (as Rachel is cutting up her cards) Y'know, if you listen closely, you can hear a thousand retailers scream.\n",
      "\n",
      "(She finishes cutting them up and they all cheer.)\n",
      "\n",
      "Monica: Welcome to the real world! It sucks. You're gonna love it!\n",
      "\n",
      "[Time Lapse, Rachel and Ross are watching a TV channel finishes it's broadcast day by playing the national anthem.]\n",
      "\n",
      "Monica: Well, that's it (To Ross) You gonna crash on the couch?\n",
      "\n",
      "Ross: No. No, I gotta go home sometime.\n",
      "\n",
      "Monica: You be okay?\n",
      "\n",
      "Ross: Yeah.\n",
      "\n",
      "Rachel: Hey Mon, look what I just found on the floor. (Monica smiles.) What?\n",
      "\n",
      "Monica: That's Paul's watch. You just put it back where you found it. Oh boy. Alright. Goodnight, everybody.\n",
      "\n",
      "Ross and Rachel: Goodnight.\n",
      "\n",
      "(Monica stomps on Paul's watch and goes into her room.)\n",
      "\n",
      "Ross: Mmm. (They both reach for the last cookie) Oh, no-\n",
      "\n",
      "Rachel: Sorry-\n",
      "\n",
      "Ross: No no no, go-\n",
      "\n",
      "Rachel: No, you have it, really, I don't want it-\n",
      "\n",
      "Ross: Split it?\n",
      "\n",
      "Rachel: Okay.\n",
      "\n",
      "Ross: Okay. (They split it.) You know you probably didn't know this, but back in high school, I had a, um, major crush on you.\n",
      "\n",
      "Rachel: I knew.\n",
      "\n",
      "Ross: You did! Oh.... I always figured you just thought I was Monica's geeky older brother.\n",
      "\n",
      "Rachel: I did.\n",
      "\n",
      "Ross: Oh. Listen, do you think- and try not to let my intense vulnerability become any kind of a factor here- but do you think it would be okay if I asked you out? Sometime? Maybe?\n",
      "\n",
      "Rachel: Yeah, maybe...\n",
      "\n",
      "Ross: Okay... okay, maybe I will...\n",
      "\n",
      "Rachel: Goodnight.\n",
      "\n",
      "Ross: Goodnight.\n",
      "\n",
      "(Rachel goes into her room and Monica enters the living room as Ross is leaving.)\n",
      "\n",
      "Monica: See ya.... Waitwait, what's with you?\n",
      "\n",
      "Ross: I just grabbed a spoon. (Ross exits and Monica has no idea what that means.)\n",
      "\n",
      "Closing Credits\n",
      "\n",
      "[Scene: Central Perk, everyone is there.]\n",
      "\n",
      "Joey: I can't believe what I'm hearing here.\n",
      "\n",
      "Phoebe: (sings) I can't believe what I'm hearing here...\n",
      "\n",
      "Monica: What? I-I said you had a-\n",
      "\n",
      "Phoebe: (sings) What I said you had...\n",
      "\n",
      "Monica: (to Phoebe) Would you stop?\n",
      "\n",
      "Phoebe: Oh, was I doing it again?\n",
      "\n",
      "All: Yes!\n",
      "\n",
      "Monica: I said that you had a nice butt, it's just not a great butt.\n",
      "\n",
      "Joey: Oh, you wouldn't know a great butt if it came up and bit ya.\n",
      "\n",
      "Ross: There's an image.\n",
      "\n",
      "Rachel: (walks up with a pot of coffee) Would anybody like more coffee?\n",
      "\n",
      "Chandler: Did you make it, or are you just serving it?\n",
      "\n",
      "Rachel: I'm just serving it.\n",
      "\n",
      "All: Yeah. Yeah, I'll have a cup of coffee.\n",
      "\n",
      "Chandler: Kids, new dream... I'm in Las Vegas. (Rachel sits down to hear Chandler's dream.)\n",
      "\n",
      "Customer: (To Rachel) Ahh, miss?   More coffee?\n",
      "\n",
      "Rachel: Ugh. (To another customer that's leaving.) Excuse me, could you give this to that guy over there? (Hands him the coffee pot.) Go ahead. (He does so.) Thank you. (To the gang.) Sorry.  Okay, Las Vegas.\n",
      "\n",
      "Chandler: Okay, so, I'm in Las Vegas... I'm Liza Minelli-\n",
      "\n",
      "End\n"
     ]
    }
   ],
   "source": [
    "try:\n",
    "  with open(\"S01E01 Monica Gets A Roommate.txt\", \"r\", encoding=\"utf-8\") as file:\n",
    "    text_data1 = file.read()\n",
    "    print(text_data1)\n",
    "except:\n",
    "  print(\"There is not such a file  or path is incorrect\")"
   ]
  },
  {
   "cell_type": "code",
   "execution_count": null,
   "id": "197037c8",
   "metadata": {},
   "outputs": [],
   "source": [
    "# try:\n",
    "#   with open(\"test3_4.txt\", \"r\", encoding=\"utf-8\") as file:\n",
    "#     text_data2 = file.read()\n",
    "#     print(text_data2)\n",
    "# except:\n",
    "#   print(\"There is not such a file  or path is incorrect\")"
   ]
  },
  {
   "cell_type": "code",
   "execution_count": null,
   "id": "b04cdbf4",
   "metadata": {},
   "outputs": [],
   "source": [
    "# try:\n",
    "#   with open(\"test5_6.txt\", \"r\", encoding=\"utf-8\") as file:\n",
    "#     text_data3 = file.read()\n",
    "#     print(text_data3)\n",
    "# except:\n",
    "#   print(\"There is not such a file  or path is incorrect\")"
   ]
  },
  {
   "cell_type": "code",
   "execution_count": null,
   "id": "e4f0d92b",
   "metadata": {},
   "outputs": [],
   "source": [
    "# try:\n",
    "#   with open(\"text7_8.txt\", \"r\", encoding=\"utf-8\") as file:\n",
    "#     text_data4 = file.read()\n",
    "#     print(text_data4)\n",
    "# except:\n",
    "#   print(\"There is not such a file  or path is incorrect\")"
   ]
  },
  {
   "cell_type": "code",
   "execution_count": null,
   "id": "5f2f2a82",
   "metadata": {},
   "outputs": [],
   "source": [
    "# try:\n",
    "#   with open(\"text9_10.txt\", \"r\", encoding=\"utf-8\") as file:\n",
    "#     text_data5 = file.read()\n",
    "#     print(text_data5)\n",
    "# except:\n",
    "#   print(\"There is not such a file  or path is incorrect\")"
   ]
  },
  {
   "cell_type": "code",
   "execution_count": null,
   "id": "f495eeb7",
   "metadata": {},
   "outputs": [],
   "source": [
    "# text_data = text_data1+\" \"+text_data2+\" \"+text_data3+\" \"+text_data4+\" \"+text_data5\n",
    "# text_data"
   ]
  },
  {
   "cell_type": "code",
   "execution_count": null,
   "id": "c845dc72",
   "metadata": {},
   "outputs": [],
   "source": [
    "len(text_data)"
   ]
  },
  {
   "cell_type": "markdown",
   "id": "99c0a0b5",
   "metadata": {},
   "source": [
    "### Clean Text"
   ]
  },
  {
   "cell_type": "code",
   "execution_count": null,
   "id": "12a72633",
   "metadata": {},
   "outputs": [],
   "source": [
    "#!pip install clean-text"
   ]
  },
  {
   "cell_type": "code",
   "execution_count": null,
   "id": "b220a996",
   "metadata": {},
   "outputs": [],
   "source": [
    "from cleantext import clean # Support only en, de"
   ]
  },
  {
   "cell_type": "code",
   "execution_count": null,
   "id": "34ca5bef",
   "metadata": {
    "scrolled": true
   },
   "outputs": [],
   "source": [
    "text_data_clean = clean(text_data,\n",
    "                        fix_unicode=True,\n",
    "                        to_ascii=False,\n",
    "                        lower=False,\n",
    "                        normalize_whitespace=True,\n",
    "                        no_line_breaks=True,\n",
    "                        strip_lines=False,\n",
    "                        keep_two_line_breaks=False,\n",
    "                        no_urls=True,\n",
    "                        no_emails=True,\n",
    "                        no_phone_numbers=True,\n",
    "                        no_numbers=True,\n",
    "                        no_digits=True,\n",
    "                        no_currency_symbols=True,\n",
    "                        no_punct=False,\n",
    "                        no_emoji=True,\n",
    "                        replace_with_url='',\n",
    "                        replace_with_email='',\n",
    "                        replace_with_phone_number='',\n",
    "                        replace_with_number='',\n",
    "                        replace_with_digit='',\n",
    "                        replace_with_currency_symbol='',\n",
    "                        replace_with_punct='',\n",
    "                        lang='en')\n",
    "text_data_clean"
   ]
  },
  {
   "cell_type": "code",
   "execution_count": null,
   "id": "dde4a1f1",
   "metadata": {},
   "outputs": [],
   "source": [
    "# Normalization"
   ]
  },
  {
   "cell_type": "code",
   "execution_count": null,
   "id": "71510c6f",
   "metadata": {},
   "outputs": [],
   "source": [
    "text_data_clean = re.sub(r\"\\'\", \"\", string=text_data_clean) # Delete Apostros\n",
    "text_data_clean"
   ]
  },
  {
   "cell_type": "code",
   "execution_count": null,
   "id": "a92e30ec",
   "metadata": {},
   "outputs": [],
   "source": [
    "text_data_clean = re.sub('[\\(\\[\\{].*?[\\)\\]\\}]', '', text_data_clean)\n",
    "text_data_clean"
   ]
  },
  {
   "cell_type": "code",
   "execution_count": null,
   "id": "202d3df4",
   "metadata": {
    "scrolled": false
   },
   "outputs": [],
   "source": [
    "# text_data_clean = re.sub(r'[\\([{})\\]]', '', text_data_clean) # Delete All Brackets\n",
    "# text_data_clean"
   ]
  },
  {
   "cell_type": "code",
   "execution_count": null,
   "id": "1034a830",
   "metadata": {},
   "outputs": [],
   "source": [
    "custom_char = [\"-\",\"#\",\":\",\"...\"]\n",
    "for i in custom_char:\n",
    "    text_data_clean = text_data_clean.replace(i, '')\n",
    "text_data_clean"
   ]
  },
  {
   "cell_type": "code",
   "execution_count": null,
   "id": "8be385b7",
   "metadata": {},
   "outputs": [],
   "source": [
    "# text_data_clean2 = clean(text_data_clean,\n",
    "#                        fix_unicode=True,\n",
    "#                        to_ascii=False,\n",
    "#                        lower=False,\n",
    "#                        normalize_whitespace=True,\n",
    "#                        no_line_breaks=True,\n",
    "#                        strip_lines=False,\n",
    "#                        keep_two_line_breaks=False,\n",
    "#                        no_urls=True,\n",
    "#                        no_emails=True,\n",
    "#                        no_phone_numbers=True,\n",
    "#                        no_numbers=True,\n",
    "#                        no_digits=True,\n",
    "#                        no_currency_symbols=True,\n",
    "#                        no_punct=False,\n",
    "#                        no_emoji=True,\n",
    "#                       replace_with_url='',\n",
    "#                        replace_with_email='',\n",
    "#                        replace_with_phone_number='',\n",
    "#                        replace_with_number='',\n",
    "#                        replace_with_digit='',\n",
    "#                        replace_with_currency_symbol='',\n",
    "#                        replace_with_punct='',\n",
    "#                        lang='en') # White space\n",
    "# text_data_clean2 "
   ]
  },
  {
   "cell_type": "code",
   "execution_count": null,
   "id": "a5dc73c2",
   "metadata": {},
   "outputs": [],
   "source": [
    "words = nltk.word_tokenize(text_data_clean)\n",
    "words"
   ]
  },
  {
   "cell_type": "code",
   "execution_count": null,
   "id": "bcfc82d7",
   "metadata": {},
   "outputs": [],
   "source": [
    "pos_tags = nltk.pos_tag(words)\n",
    "pos_tags"
   ]
  },
  {
   "cell_type": "code",
   "execution_count": null,
   "id": "3e5f7a5d",
   "metadata": {},
   "outputs": [],
   "source": [
    "nltk.download('tagsets')"
   ]
  },
  {
   "cell_type": "code",
   "execution_count": null,
   "id": "698b58a5",
   "metadata": {},
   "outputs": [],
   "source": [
    "nltk.help.upenn_tagset('NNP')"
   ]
  },
  {
   "cell_type": "code",
   "execution_count": null,
   "id": "4349f2ca",
   "metadata": {
    "scrolled": true
   },
   "outputs": [],
   "source": [
    "nltk.help.upenn_tagset('NN')"
   ]
  },
  {
   "cell_type": "code",
   "execution_count": null,
   "id": "649999de",
   "metadata": {
    "scrolled": true
   },
   "outputs": [],
   "source": [
    "nltk.download('maxent_ne_chunker')"
   ]
  },
  {
   "cell_type": "code",
   "execution_count": null,
   "id": "e84aa842",
   "metadata": {},
   "outputs": [],
   "source": [
    "nltk.download('words')"
   ]
  },
  {
   "cell_type": "code",
   "execution_count": null,
   "id": "3823d052",
   "metadata": {},
   "outputs": [],
   "source": [
    "chunks = nltk.ne_chunk(pos_tags, binary=True)\n",
    "for chunk in chunks:\n",
    "    print(chunk)"
   ]
  },
  {
   "cell_type": "code",
   "execution_count": null,
   "id": "4108a0c0",
   "metadata": {},
   "outputs": [],
   "source": [
    "entities =[]\n",
    "labels =[]\n",
    "for chunk in chunks:\n",
    "    if hasattr(chunk,'label'):\n",
    "        #print(chunk)\n",
    "        entities.append(' '.join(c[0] for c in chunk))\n",
    "        labels.append(chunk.label())\n",
    "        \n",
    "entities_labels = list(set(zip(entities, labels)))\n",
    "entities_df = pd.DataFrame(entities_labels)\n",
    "entities_df.columns = [\"Entities\",\"Labels\"]\n",
    "entities_df"
   ]
  },
  {
   "cell_type": "code",
   "execution_count": null,
   "id": "6443124e",
   "metadata": {
    "scrolled": true
   },
   "outputs": [],
   "source": [
    "# chunks = nltk.ne_chunk(pos_tags, binary=False) #either NE or not NE\n",
    "# for chunk in chunks:\n",
    "#     print(chunk)\n",
    "    \n",
    "entities =[]\n",
    "labels =[]\n",
    "for chunk in chunks:\n",
    "    if hasattr(chunk,'label'):\n",
    "        #print(chunk)\n",
    "        entities.append(' '.join(c[0] for c in chunk))\n",
    "        labels.append(chunk.label())\n",
    "        \n",
    "entities_labels = list(set(zip(entities, labels)))\n",
    "entities_df = pd.DataFrame(entities_labels)\n",
    "entities_df.columns = [\"Entities\",\"Labels\"]\n",
    "entities_df"
   ]
  },
  {
   "cell_type": "code",
   "execution_count": null,
   "id": "ef6e09cd",
   "metadata": {
    "scrolled": true
   },
   "outputs": [],
   "source": [
    "entities_list = []\n",
    "for i in entities_labels:\n",
    "    entities_list.append(i[0])\n",
    "entities_list"
   ]
  },
  {
   "cell_type": "code",
   "execution_count": null,
   "id": "81bd4ab4",
   "metadata": {},
   "outputs": [],
   "source": [
    "type(entities_list)"
   ]
  },
  {
   "cell_type": "code",
   "execution_count": null,
   "id": "11548b9c",
   "metadata": {},
   "outputs": [],
   "source": [
    "for ent in entities_list:\n",
    "    text_data_clean = text_data_clean.replace(ent, '')\n",
    "text_data_clean"
   ]
  },
  {
   "cell_type": "code",
   "execution_count": null,
   "id": "4826c299",
   "metadata": {
    "scrolled": true
   },
   "outputs": [],
   "source": [
    "text_data_clean2 = clean(text_data_clean,\n",
    "                        fix_unicode=True,\n",
    "                        to_ascii=False,\n",
    "                        lower=False,\n",
    "                        normalize_whitespace=True,\n",
    "                        no_line_breaks=True,\n",
    "                        strip_lines=False,\n",
    "                        keep_two_line_breaks=False,\n",
    "                        no_urls=True,\n",
    "                        no_emails=True,\n",
    "                        no_phone_numbers=True,\n",
    "                        no_numbers=True,\n",
    "                        no_digits=True,\n",
    "                        no_currency_symbols=True,\n",
    "                        no_punct=False,\n",
    "                        no_emoji=True,\n",
    "                        replace_with_url='',\n",
    "                        replace_with_email='',\n",
    "                        replace_with_phone_number='',\n",
    "                        replace_with_number='',\n",
    "                        replace_with_digit='',\n",
    "                        replace_with_currency_symbol='',\n",
    "                        replace_with_punct='',\n",
    "                        lang='en') # White space\n",
    "text_data_clean2 "
   ]
  },
  {
   "cell_type": "code",
   "execution_count": null,
   "id": "197b07c3",
   "metadata": {},
   "outputs": [],
   "source": []
  },
  {
   "cell_type": "code",
   "execution_count": null,
   "id": "68553c22",
   "metadata": {},
   "outputs": [],
   "source": [
    "# Not: Regex ile boş noktalama işaretleri temizlenecek"
   ]
  },
  {
   "cell_type": "code",
   "execution_count": null,
   "id": "e8d3186f",
   "metadata": {},
   "outputs": [],
   "source": [
    "# df2[\"text\"] = df2[\"text\"].apply(lambda x: pd.Series(x).str.replace(\"(@+\\w+)\", \"\"))\n",
    "# df2[\"text\"]"
   ]
  },
  {
   "cell_type": "code",
   "execution_count": null,
   "id": "f0f0edc4",
   "metadata": {},
   "outputs": [],
   "source": []
  },
  {
   "cell_type": "code",
   "execution_count": null,
   "id": "58bdd62f",
   "metadata": {},
   "outputs": [],
   "source": []
  },
  {
   "cell_type": "code",
   "execution_count": null,
   "id": "98183e16",
   "metadata": {},
   "outputs": [],
   "source": []
  },
  {
   "cell_type": "code",
   "execution_count": null,
   "id": "746c0dea",
   "metadata": {},
   "outputs": [],
   "source": []
  },
  {
   "cell_type": "markdown",
   "id": "0da2c5c5",
   "metadata": {},
   "source": [
    "### Word Tokenize"
   ]
  },
  {
   "cell_type": "code",
   "execution_count": null,
   "id": "b626ec7d",
   "metadata": {},
   "outputs": [],
   "source": [
    "from nltk import word_tokenize,sent_tokenize"
   ]
  },
  {
   "cell_type": "code",
   "execution_count": null,
   "id": "f86a4c75",
   "metadata": {},
   "outputs": [],
   "source": [
    "word_token = word_tokenize(text_data_clean2.lower())\n",
    "word_token"
   ]
  },
  {
   "cell_type": "code",
   "execution_count": null,
   "id": "cdd5f09f",
   "metadata": {},
   "outputs": [],
   "source": [
    "tokens_without_punc = [w for w in word_token if w.isalpha()]\n",
    "tokens_without_punc"
   ]
  },
  {
   "cell_type": "code",
   "execution_count": null,
   "id": "b30dec3c",
   "metadata": {},
   "outputs": [],
   "source": [
    "from nltk.stem import WordNetLemmatizer"
   ]
  },
  {
   "cell_type": "code",
   "execution_count": null,
   "id": "c2f20e0d",
   "metadata": {},
   "outputs": [],
   "source": [
    "tokens_without_punc_lemma = []\n",
    "for word in tokens_without_punc:\n",
    "    tokens_without_punc_lemma.append(WordNetLemmatizer().lemmatize(word))\n",
    "tokens_without_punc_lemma "
   ]
  },
  {
   "cell_type": "code",
   "execution_count": null,
   "id": "345bc5c6",
   "metadata": {},
   "outputs": [],
   "source": [
    "tokens_without_punc = pd.Series(tokens_without_punc_lemma)\n",
    "tokens_without_punc"
   ]
  },
  {
   "cell_type": "code",
   "execution_count": null,
   "id": "fb7d6568",
   "metadata": {},
   "outputs": [],
   "source": [
    "len(tokens_without_punc)"
   ]
  },
  {
   "cell_type": "code",
   "execution_count": null,
   "id": "9bd03259",
   "metadata": {},
   "outputs": [],
   "source": [
    "freq_word = pd.Series(\" \".join(tokens_without_punc).split()).value_counts().sort_values(ascending=False)\n",
    "freq_word"
   ]
  },
  {
   "cell_type": "code",
   "execution_count": null,
   "id": "7aeb4af0",
   "metadata": {},
   "outputs": [],
   "source": [
    "freq_word_df = pd.DataFrame(freq_word)\n",
    "freq_word_df"
   ]
  },
  {
   "cell_type": "code",
   "execution_count": null,
   "id": "571a53c2",
   "metadata": {},
   "outputs": [],
   "source": [
    "freq_word_df = freq_word_df.reset_index()\n",
    "freq_word_df"
   ]
  },
  {
   "cell_type": "code",
   "execution_count": null,
   "id": "ad6e0c95",
   "metadata": {},
   "outputs": [],
   "source": [
    "freq_word_df = freq_word_df.rename(columns={\"index\": \"word\", 0 : \"frequency\"})\n",
    "freq_word_df "
   ]
  },
  {
   "cell_type": "code",
   "execution_count": null,
   "id": "818c6db8",
   "metadata": {},
   "outputs": [],
   "source": [
    "freq_word_df.frequency/(len(tokens_without_punc)*100)"
   ]
  },
  {
   "cell_type": "code",
   "execution_count": null,
   "id": "663ab878",
   "metadata": {},
   "outputs": [],
   "source": [
    "freq_word_df[\"ratio\"] = round((freq_word_df.frequency/len(tokens_without_punc)*100),4)\n",
    "freq_word_df"
   ]
  },
  {
   "cell_type": "code",
   "execution_count": null,
   "id": "8f190695",
   "metadata": {},
   "outputs": [],
   "source": [
    "freq_word_df.frequency.sum()"
   ]
  },
  {
   "cell_type": "code",
   "execution_count": null,
   "id": "e51ad419",
   "metadata": {},
   "outputs": [],
   "source": [
    "freq_word_df_2 = freq_word_df.iloc[:1000,:] # İlk bin satırı gözlemledik.\n",
    "freq_word_df_2"
   ]
  },
  {
   "cell_type": "code",
   "execution_count": null,
   "id": "f73b8e08",
   "metadata": {
    "scrolled": true
   },
   "outputs": [],
   "source": [
    "plt.figure(figsize=(12,8))\n",
    "sns.lineplot(x=\"word\", y=\"ratio\", data=freq_word_df_2)\n",
    "plt.xticks(rotation=90);"
   ]
  },
  {
   "cell_type": "code",
   "execution_count": null,
   "id": "ee8d5e41",
   "metadata": {
    "scrolled": true
   },
   "outputs": [],
   "source": [
    "freq_word_df[freq_word_df.ratio > 0.001]"
   ]
  },
  {
   "cell_type": "code",
   "execution_count": null,
   "id": "e11e38c8",
   "metadata": {},
   "outputs": [],
   "source": [
    "df2 = freq_word_df[freq_word_df.ratio > 0.001]\n",
    "df2"
   ]
  },
  {
   "cell_type": "code",
   "execution_count": null,
   "id": "a1b31bc7",
   "metadata": {},
   "outputs": [],
   "source": [
    "plt.figure(figsize=(12,8))\n",
    "sns.histplot(x=\"ratio\", data=freq_word_df,cumulative=True)\n",
    "plt.xticks(rotation=90);"
   ]
  },
  {
   "cell_type": "code",
   "execution_count": null,
   "id": "d6b43ba7",
   "metadata": {},
   "outputs": [],
   "source": [
    "# Not: Kelime kullanım oranı hesaplanmalı"
   ]
  },
  {
   "cell_type": "code",
   "execution_count": null,
   "id": "57ddfb7c",
   "metadata": {},
   "outputs": [],
   "source": [
    "freq_word_df.to_excel(\"Friends_Word.xlsx\", sheet_name='Word_tokenize', index=False)"
   ]
  },
  {
   "cell_type": "code",
   "execution_count": null,
   "id": "43dc6bfd",
   "metadata": {},
   "outputs": [],
   "source": []
  },
  {
   "cell_type": "markdown",
   "id": "5080e1cb",
   "metadata": {},
   "source": [
    "### Sentence Analysis"
   ]
  },
  {
   "cell_type": "code",
   "execution_count": null,
   "id": "223bc47c",
   "metadata": {},
   "outputs": [],
   "source": []
  },
  {
   "cell_type": "code",
   "execution_count": null,
   "id": "add9a521",
   "metadata": {},
   "outputs": [],
   "source": [
    "sentence = sent_tokenize(text_data_clean2)\n",
    "sentence"
   ]
  },
  {
   "cell_type": "code",
   "execution_count": null,
   "id": "3483b549",
   "metadata": {},
   "outputs": [],
   "source": [
    "sentence_lower =  []\n",
    "for i in sentence:\n",
    "    sentence_lower.append(i.lower())\n",
    "sentence_lower"
   ]
  },
  {
   "cell_type": "code",
   "execution_count": null,
   "id": "f1dfa3e7",
   "metadata": {
    "scrolled": true
   },
   "outputs": [],
   "source": [
    "sent_token_2 = []\n",
    "for i in sentence_lower:\n",
    "    sent_token_2.append(i.strip(\"-\").strip(\"\\n\").strip(\"(\").strip(\")\").strip(\",\").strip(\" \").strip(\", \"))\n",
    "sent_token_2"
   ]
  },
  {
   "cell_type": "code",
   "execution_count": null,
   "id": "aae5c0cb",
   "metadata": {},
   "outputs": [],
   "source": [
    "def sent_lemma(text):\n",
    "    a_1 = word_tokenize(text)\n",
    "    sent_lemma_list = []\n",
    "    for i in a_1:\n",
    "        sent_lemma_list.append(WordNetLemmatizer().lemmatize(i))\n",
    "        sentence_1 = \" \".join(sent_lemma_list)\n",
    "    return sentence_1"
   ]
  },
  {
   "cell_type": "code",
   "execution_count": null,
   "id": "e99b6a06",
   "metadata": {},
   "outputs": [],
   "source": [
    "sent_lemma_list = []\n",
    "for i in sent_token_2:\n",
    "    sent_lemma_list.append(sent_lemma(i))\n",
    "sent_lemma_list    "
   ]
  },
  {
   "cell_type": "code",
   "execution_count": null,
   "id": "49b531f3",
   "metadata": {},
   "outputs": [],
   "source": [
    "sent_token_2 = pd.DataFrame(sent_lemma_list)\n",
    "sent_token_2"
   ]
  },
  {
   "cell_type": "code",
   "execution_count": null,
   "id": "7afa4f50",
   "metadata": {},
   "outputs": [],
   "source": [
    "sent_token_2 = sent_token_2.rename(columns={0:\"sentence\"})\n",
    "sent_token_2"
   ]
  },
  {
   "cell_type": "code",
   "execution_count": null,
   "id": "88c1c35f",
   "metadata": {
    "scrolled": false
   },
   "outputs": [],
   "source": [
    "sent_token_no_punc = sent_token_2.sentence.apply(lambda x: re.sub(pattern=\"[^\\w\\s]\", repl=\"\", string=x))\n",
    "sent_token_no_punc"
   ]
  },
  {
   "cell_type": "code",
   "execution_count": null,
   "id": "7758f298",
   "metadata": {
    "scrolled": true
   },
   "outputs": [],
   "source": [
    "sent_token_no_punc_df = pd.DataFrame(data=sent_token_no_punc)\n",
    "sent_token_no_punc_df"
   ]
  },
  {
   "cell_type": "code",
   "execution_count": null,
   "id": "5032d7af",
   "metadata": {},
   "outputs": [],
   "source": [
    "def space(sentence):\n",
    "    a_1 = word_tokenize(sentence)\n",
    "    a_2 = \" \".join(a_1)\n",
    "    return a_2"
   ]
  },
  {
   "cell_type": "code",
   "execution_count": null,
   "id": "2483cb89",
   "metadata": {
    "scrolled": true
   },
   "outputs": [],
   "source": [
    "sent_token_no_punc_df.sentence = sent_token_no_punc_df.sentence.apply(lambda x : space(x))\n",
    "sent_token_no_punc_df"
   ]
  },
  {
   "cell_type": "code",
   "execution_count": null,
   "id": "39f4a85c",
   "metadata": {},
   "outputs": [],
   "source": [
    "sent_token_no_punc_df.iloc[0]"
   ]
  },
  {
   "cell_type": "code",
   "execution_count": null,
   "id": "9023d855",
   "metadata": {},
   "outputs": [],
   "source": [
    "sent_token_no_punc_df[sent_token_no_punc_df.sentence == \"\"]"
   ]
  },
  {
   "cell_type": "code",
   "execution_count": null,
   "id": "cb02b623",
   "metadata": {},
   "outputs": [],
   "source": [
    "sent_token_no_punc_df.drop(sent_token_no_punc_df[sent_token_no_punc_df.sentence == \"\"].index, inplace=True)"
   ]
  },
  {
   "cell_type": "code",
   "execution_count": null,
   "id": "46cee275",
   "metadata": {},
   "outputs": [],
   "source": [
    "sent_token_no_punc_df = sent_token_no_punc_df.sentence.value_counts().sort_values(ascending=False)\n",
    "sent_token_no_punc_df"
   ]
  },
  {
   "cell_type": "code",
   "execution_count": null,
   "id": "cdd18ef8",
   "metadata": {},
   "outputs": [],
   "source": [
    "sent_token_no_punc_df.head(20)"
   ]
  },
  {
   "cell_type": "code",
   "execution_count": null,
   "id": "c864e9a6",
   "metadata": {},
   "outputs": [],
   "source": [
    "sent_token_no_punc_df2 = pd.DataFrame(sent_token_no_punc_df)\n",
    "sent_token_no_punc_df2 = sent_token_no_punc_df2.reset_index()\n",
    "sent_token_no_punc_df2"
   ]
  },
  {
   "cell_type": "code",
   "execution_count": null,
   "id": "6537488a",
   "metadata": {
    "scrolled": true
   },
   "outputs": [],
   "source": [
    "sent_token_no_punc_df2 = sent_token_no_punc_df2.rename(columns={\"index\":\"sentence\", \"sentence\":\"frequency\"})\n",
    "sent_token_no_punc_df2"
   ]
  },
  {
   "cell_type": "code",
   "execution_count": null,
   "id": "1c96cc04",
   "metadata": {},
   "outputs": [],
   "source": [
    "total_value = sent_token_no_punc_df2.frequency.sum()\n",
    "total_value"
   ]
  },
  {
   "cell_type": "code",
   "execution_count": null,
   "id": "f9175d89",
   "metadata": {},
   "outputs": [],
   "source": [
    "sent_token_no_punc_df2[\"ratio\"] = (sent_token_no_punc_df2.frequency/total_value)*100"
   ]
  },
  {
   "cell_type": "code",
   "execution_count": null,
   "id": "ea04e2a9",
   "metadata": {
    "scrolled": true
   },
   "outputs": [],
   "source": [
    "sent_token_no_punc_df2.head(20)"
   ]
  },
  {
   "cell_type": "code",
   "execution_count": null,
   "id": "173e672c",
   "metadata": {},
   "outputs": [],
   "source": [
    "from nltk.stem import WordNetLemmatizer"
   ]
  },
  {
   "cell_type": "code",
   "execution_count": null,
   "id": "a94b986b",
   "metadata": {},
   "outputs": [],
   "source": [
    "WordNetLemmatizer().lemmatize(\"cries\")"
   ]
  },
  {
   "cell_type": "code",
   "execution_count": null,
   "id": "aa745324",
   "metadata": {},
   "outputs": [],
   "source": []
  },
  {
   "cell_type": "code",
   "execution_count": null,
   "id": "eba25eec",
   "metadata": {},
   "outputs": [],
   "source": [
    "# sent_token_no_punc_df2.to_excel(\"Friends_Sentence.xlsx\", sheet_name='Sentence_tokenize', index=False)"
   ]
  },
  {
   "cell_type": "code",
   "execution_count": null,
   "id": "a41f79e2",
   "metadata": {},
   "outputs": [],
   "source": [
    "# NOT: Sent tokenize max 10 word "
   ]
  },
  {
   "cell_type": "code",
   "execution_count": null,
   "id": "c6a3c278",
   "metadata": {},
   "outputs": [],
   "source": []
  },
  {
   "cell_type": "code",
   "execution_count": null,
   "id": "86a6e512",
   "metadata": {},
   "outputs": [],
   "source": [
    "text_10 = \"its just as well i cries mean last year wasnt very good\""
   ]
  },
  {
   "cell_type": "code",
   "execution_count": null,
   "id": "9cc072a0",
   "metadata": {},
   "outputs": [],
   "source": [
    "len(text_10.split())"
   ]
  },
  {
   "cell_type": "code",
   "execution_count": null,
   "id": "6c2154c4",
   "metadata": {},
   "outputs": [],
   "source": [
    "text = \"its just as well i cries mean last year wasnt very good\""
   ]
  },
  {
   "cell_type": "code",
   "execution_count": null,
   "id": "2043ca50",
   "metadata": {},
   "outputs": [],
   "source": [
    "def sent_lemma(text):\n",
    "    a_1 = word_tokenize(text)\n",
    "    sent_lemma_list = []\n",
    "    for i in a_1:\n",
    "        sent_lemma_list.append(WordNetLemmatizer().lemmatize(i))\n",
    "        sentence_1 = \" \".join(sent_lemma_list)\n",
    "    return sentence_1"
   ]
  },
  {
   "cell_type": "code",
   "execution_count": null,
   "id": "0f531852",
   "metadata": {},
   "outputs": [],
   "source": [
    "sent_lemma(text)"
   ]
  },
  {
   "cell_type": "code",
   "execution_count": null,
   "id": "401dd470",
   "metadata": {},
   "outputs": [],
   "source": []
  },
  {
   "cell_type": "code",
   "execution_count": null,
   "id": "57055400",
   "metadata": {},
   "outputs": [],
   "source": []
  },
  {
   "cell_type": "code",
   "execution_count": null,
   "id": "7bb55256",
   "metadata": {},
   "outputs": [],
   "source": []
  },
  {
   "cell_type": "code",
   "execution_count": null,
   "id": "e9fe1cbd",
   "metadata": {},
   "outputs": [],
   "source": []
  },
  {
   "cell_type": "code",
   "execution_count": null,
   "id": "c612c521",
   "metadata": {},
   "outputs": [],
   "source": []
  },
  {
   "cell_type": "code",
   "execution_count": null,
   "id": "462666b9",
   "metadata": {},
   "outputs": [],
   "source": []
  },
  {
   "cell_type": "code",
   "execution_count": null,
   "id": "c0ac477a",
   "metadata": {},
   "outputs": [],
   "source": []
  },
  {
   "cell_type": "code",
   "execution_count": null,
   "id": "e8835c1a",
   "metadata": {},
   "outputs": [],
   "source": []
  },
  {
   "cell_type": "code",
   "execution_count": null,
   "id": "a3e5de90",
   "metadata": {},
   "outputs": [],
   "source": []
  },
  {
   "cell_type": "code",
   "execution_count": null,
   "id": "a5771ec4",
   "metadata": {},
   "outputs": [],
   "source": []
  },
  {
   "cell_type": "code",
   "execution_count": null,
   "id": "4acf3946",
   "metadata": {},
   "outputs": [],
   "source": []
  },
  {
   "cell_type": "code",
   "execution_count": null,
   "id": "4f6a85dc",
   "metadata": {},
   "outputs": [],
   "source": []
  },
  {
   "cell_type": "code",
   "execution_count": null,
   "id": "e04a91e5",
   "metadata": {},
   "outputs": [],
   "source": []
  },
  {
   "cell_type": "code",
   "execution_count": null,
   "id": "cc20b75b",
   "metadata": {},
   "outputs": [],
   "source": []
  },
  {
   "cell_type": "code",
   "execution_count": null,
   "id": "1fbc7e6f",
   "metadata": {},
   "outputs": [],
   "source": []
  },
  {
   "cell_type": "code",
   "execution_count": null,
   "id": "e5e09079",
   "metadata": {},
   "outputs": [],
   "source": []
  },
  {
   "cell_type": "markdown",
   "id": "53174c4b",
   "metadata": {},
   "source": [
    "### Neat Text"
   ]
  },
  {
   "cell_type": "code",
   "execution_count": null,
   "id": "8f851ffc",
   "metadata": {},
   "outputs": [],
   "source": [
    "#!pip install neattext"
   ]
  },
  {
   "cell_type": "code",
   "execution_count": null,
   "id": "7362ae37",
   "metadata": {},
   "outputs": [],
   "source": [
    "import neattext as nt"
   ]
  },
  {
   "cell_type": "code",
   "execution_count": null,
   "id": "858f1e9e",
   "metadata": {},
   "outputs": [],
   "source": [
    "from neattext.functions import clean_text"
   ]
  },
  {
   "cell_type": "code",
   "execution_count": null,
   "id": "339c3010",
   "metadata": {},
   "outputs": [],
   "source": [
    "text_data"
   ]
  },
  {
   "cell_type": "code",
   "execution_count": null,
   "id": "9061879c",
   "metadata": {},
   "outputs": [],
   "source": [
    "text_data_clean2 = clean_text(text_data,\n",
    "                              puncts=False,\n",
    "                              stopwords=False,\n",
    "                              urls=False,\n",
    "                              emails=False,\n",
    "                              numbers=True,\n",
    "                              emojis=False,\n",
    "                              special_char=False,\n",
    "                              phone_num=False,\n",
    "                              non_ascii=False,\n",
    "                              multiple_whitespaces=False,\n",
    "                              contractions=False,\n",
    "                              currency_symbols=False,\n",
    "                              custom_pattern=None)\n",
    "text_data_clean2"
   ]
  },
  {
   "cell_type": "code",
   "execution_count": null,
   "id": "bbdf25a2",
   "metadata": {},
   "outputs": [],
   "source": [
    "custom_pattern1=\"#\"\n",
    "custom_pattern2=\"-\"\n",
    "custom_pattern3=(r'^\\w\\s')"
   ]
  },
  {
   "cell_type": "code",
   "execution_count": null,
   "id": "b9b502fc",
   "metadata": {},
   "outputs": [],
   "source": [
    "text_data_clean3 = clean_text(text_data,\n",
    "                              puncts=False,\n",
    "                              stopwords=False,\n",
    "                              urls=False,\n",
    "                              emails=False,\n",
    "                              numbers=True,\n",
    "                              emojis=True,\n",
    "                              special_char=False,\n",
    "                              phone_num=False,\n",
    "                              non_ascii=False,\n",
    "                              multiple_whitespaces=True,\n",
    "                              contractions=False,\n",
    "                              currency_symbols=False,\n",
    "                              custom_pattern=(r'^\\w\\s')\n",
    "                              )\n",
    "text_data_clean3"
   ]
  },
  {
   "cell_type": "markdown",
   "id": "90e77219",
   "metadata": {},
   "source": [
    "### Regex"
   ]
  },
  {
   "cell_type": "code",
   "execution_count": null,
   "id": "f6b10b87",
   "metadata": {},
   "outputs": [],
   "source": [
    "import re"
   ]
  },
  {
   "cell_type": "code",
   "execution_count": null,
   "id": "c4e016aa",
   "metadata": {},
   "outputs": [],
   "source": [
    "text_data"
   ]
  },
  {
   "cell_type": "code",
   "execution_count": null,
   "id": "f915c1be",
   "metadata": {},
   "outputs": [],
   "source": [
    "text = re.search('[^\\w\\s]',text_data)\n",
    "text.group()"
   ]
  },
  {
   "cell_type": "code",
   "execution_count": null,
   "id": "78910941",
   "metadata": {},
   "outputs": [],
   "source": [
    "text = re.sub('^\\w\\s',repl=\"\", string=text_data)\n",
    "text"
   ]
  },
  {
   "cell_type": "code",
   "execution_count": null,
   "id": "1b2447ca",
   "metadata": {},
   "outputs": [],
   "source": [
    "text = text_data.str.extract('^\\w\\s')\n",
    "text"
   ]
  },
  {
   "cell_type": "code",
   "execution_count": null,
   "id": "fd987365",
   "metadata": {},
   "outputs": [],
   "source": []
  },
  {
   "cell_type": "code",
   "execution_count": null,
   "id": "31879ec3",
   "metadata": {},
   "outputs": [],
   "source": []
  },
  {
   "cell_type": "code",
   "execution_count": null,
   "id": "5147a371",
   "metadata": {},
   "outputs": [],
   "source": []
  }
 ],
 "metadata": {
  "interpreter": {
   "hash": "43a9cd95aa030499ef934e4da31e07dde54f3fc3a1fd0cc4aeef7f16459ee2ac"
  },
  "kernelspec": {
   "display_name": "Python 3.9.0 64-bit (system)",
   "name": "python3"
  },
  "language_info": {
   "codemirror_mode": {
    "name": "ipython",
    "version": 3
   },
   "file_extension": ".py",
   "mimetype": "text/x-python",
   "name": "python",
   "nbconvert_exporter": "python",
   "pygments_lexer": "ipython3",
   "version": "3.9.0"
  }
 },
 "nbformat": 4,
 "nbformat_minor": 5
}
