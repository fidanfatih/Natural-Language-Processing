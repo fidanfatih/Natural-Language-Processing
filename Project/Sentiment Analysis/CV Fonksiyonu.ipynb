{
 "cells": [
  {
   "cell_type": "code",
   "execution_count": null,
   "id": "fee55105",
   "metadata": {},
   "outputs": [],
   "source": [
    "from sklearn.model_selection import cross_val_score"
   ]
  },
  {
   "cell_type": "code",
   "execution_count": null,
   "id": "e2e246aa",
   "metadata": {},
   "outputs": [],
   "source": [
    "# derste gösterilen kodu ikiye böldüm. alttaki dictiıonary tanımlanan kısmı bir kere çalıştırdım."
   ]
  },
  {
   "cell_type": "code",
   "execution_count": null,
   "id": "fd584953",
   "metadata": {},
   "outputs": [],
   "source": [
    "from sklearn.metrics import make_scorer\n",
    "from sklearn.metrics import f1_score, accuracy_score, precision_score, recall_score\n",
    "custom_scorer = {'accuracy': make_scorer(accuracy_score),\n",
    "                 'precision-0': make_scorer(precision_score, average='weighted', labels=[0]),\n",
    "                 'recall-0': make_scorer(recall_score, average='weighted', labels = [0]),\n",
    "                 'f1-0': make_scorer(f1_score, average='weighted', labels = [0]),\n",
    "                 'precision-1': make_scorer(precision_score, average='weighted', labels=[1]),\n",
    "                 'recall-1': make_scorer(recall_score, average='weighted', labels = [1]),\n",
    "                 'f1-1': make_scorer(f1_score, average='weighted', labels = [1])\n",
    "                 }"
   ]
  },
  {
   "cell_type": "code",
   "execution_count": null,
   "id": "4cf2d55d",
   "metadata": {},
   "outputs": [],
   "source": [
    "score_df = pd.DataFrame(columns = ['model', 'accuracy', 'precision-0', 'recall-0', 'f1-0', 'precision-1', 'recall-1', 'f1-1'])\n",
    "#Boş bir dataframe tanımladım.\n",
    "score_df"
   ]
  },
  {
   "cell_type": "code",
   "execution_count": null,
   "id": "f323da86",
   "metadata": {},
   "outputs": [],
   "source": [
    "# Cross validation yapılan kısmı fonksiyon olarak tanımladım."
   ]
  },
  {
   "cell_type": "code",
   "execution_count": null,
   "id": "fbe7d73f",
   "metadata": {},
   "outputs": [],
   "source": [
    "def cv_on_models(model, X_train_cv, model_and_vector):\n",
    "    '''\n",
    "        model: model ismi\n",
    "        X_train_cv : Cross_validationa girecek X_train, countvectorised veya tf_idf vectorised\n",
    "        model_and_vector : Dataframe'de ilgili satırda scoreları tanımlayıcı string ifade e.g logistic_reg_count\n",
    "    '''\n",
    "    score_dict = {'model': model_and_vector, 'accuracy': 0, 'precision-0':0, 'recall-0':0, 'f1-0':0, 'precision-1':0, 'recall-1':0, 'f1-1':0}\n",
    "    # this dictionary is useing for storing each models scores in function.\n",
    "    for i, j in custom_scorer.items():\n",
    "        scores = cross_val_score(model, X_train_cv, y_train, cv = 10, scoring = j).mean()\n",
    "        score_dict[i] = scores\n",
    "        print(f\" {i} score for {model_and_vector} : {scores}\\n\")\n",
    "    global score_df # For modifying dataframe which is outside of function, we need to declare it is global\n",
    "    score_df = score_df.append(score_dict, ignore_index=True) # we append dictionary to dataframe at the end of cv\n",
    "    print(score_df)"
   ]
  },
  {
   "cell_type": "code",
   "execution_count": null,
   "id": "258632df",
   "metadata": {},
   "outputs": [],
   "source": [
    "# diğer fonksiyonları yukarıda fonksiyon ve dataframe göre güncelledim."
   ]
  },
  {
   "cell_type": "code",
   "execution_count": null,
   "id": "11686b17",
   "metadata": {},
   "outputs": [],
   "source": [
    "def labels(ax):\n",
    "    for p in ax.patches:\n",
    "        width = p.get_width()                        # get bar length\n",
    "        ax.text(width,                               # set the text at 1 unit right of the bar\n",
    "                p.get_y() + p.get_height() / 2,      # get Y coordinate + X coordinate / 2\n",
    "                '{:1.2f}'.format(width),             # set variable to display, 2 decimals\n",
    "                ha = 'left',                         # horizontal alignment\n",
    "                va = 'center')                       # vertical alignment\n",
    "plt.figure(figsize=(14,10))\n",
    "plt.subplot(211)\n",
    "score_df = score_df.sort_values(by=\"accuracy\", ascending=False)\n",
    "ax=sns.barplot(x=\"accuracy\", y=\"model\", data=score_df, palette=\"Blues_d\")\n",
    "labels(ax)\n",
    "plt.subplot(212)\n",
    "score_df = score_df.sort_values(by=\"recall-0\", ascending=False)\n",
    "ax=sns.barplot(x=\"recall-0\", y=\"model\", data=score_df, palette=\"Blues_d\")\n",
    "labels(ax)\n",
    "plt.show()"
   ]
  },
  {
   "cell_type": "code",
   "execution_count": null,
   "id": "306df054",
   "metadata": {},
   "outputs": [],
   "source": [
    "fig = plt.subplots(figsize=(12,8))\n",
    "ax = sns.barplot( score_df[\"f1-0\"], score_df[\"model\"])\n",
    "sns.despine(bottom = True, left = True)\n",
    "for p in ax.patches:\n",
    "    ax.annotate(\"%.3f\" % p.get_width(), xy=(p.get_width(), p.get_y()+p.get_height()/2),\n",
    "            xytext=(5, 0), textcoords='offset points', ha=\"left\", va=\"center\")"
   ]
  }
 ],
 "metadata": {
  "kernelspec": {
   "display_name": "Python 3",
   "language": "python",
   "name": "python3"
  },
  "language_info": {
   "codemirror_mode": {
    "name": "ipython",
    "version": 3
   },
   "file_extension": ".py",
   "mimetype": "text/x-python",
   "name": "python",
   "nbconvert_exporter": "python",
   "pygments_lexer": "ipython3",
   "version": "3.8.10"
  }
 },
 "nbformat": 4,
 "nbformat_minor": 5
}
